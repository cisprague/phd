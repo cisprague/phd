{
 "cells": [
  {
   "cell_type": "code",
   "execution_count": 1,
   "metadata": {
    "collapsed": true
   },
   "outputs": [],
   "source": [
    "from numpy import *\n",
    "from sympy import *\n",
    "init_printing()"
   ]
  },
  {
   "cell_type": "code",
   "execution_count": 2,
   "metadata": {},
   "outputs": [
    {
     "data": {
      "text/plain": [
       "'\\\\left[\\\\begin{matrix}x\\\\\\\\y\\\\\\\\z\\\\\\\\v_{x}\\\\\\\\v_{y}\\\\\\\\v_{z}\\\\end{matrix}\\\\right]'"
      ]
     },
     "execution_count": 2,
     "metadata": {},
     "output_type": "execute_result"
    }
   ],
   "source": [
    "# state\n",
    "x, y, z, vx, vy, vz = symbols('x y z v_x v_y v_z')\n",
    "r                      = Matrix([x, y, z])\n",
    "v                      = Matrix([vx, vy, vz])\n",
    "s                      = Matrix([r, v])\n",
    "latex(s)"
   ]
  },
  {
   "cell_type": "code",
   "execution_count": 3,
   "metadata": {
    "collapsed": true
   },
   "outputs": [],
   "source": [
    "# costate\n",
    "lx, ly, lz, lvx, lvy, lvz = symbols(\n",
    "    '\\\\lambda_x \\\\lambda_y \\\\lambda_z \\\\lambda_{v_x} \\\\lambda_{v_y} \\\\lambda_{v_z}')\n",
    "lr                            = Matrix([lx, ly, lz])\n",
    "lv                            = Matrix([lvx, lvy, lvz])\n",
    "l                             = Matrix([lr, lv])"
   ]
  },
  {
   "cell_type": "code",
   "execution_count": 4,
   "metadata": {
    "collapsed": true
   },
   "outputs": [],
   "source": [
    "# fullstate\n",
    "fs = Matrix([s, l])"
   ]
  },
  {
   "cell_type": "code",
   "execution_count": 5,
   "metadata": {
    "collapsed": true
   },
   "outputs": [],
   "source": [
    "# control: throttle and direction\n",
    "u, ux, uy, uz = symbols(\"u, u_x, u_y u_z\")\n",
    "i = Matrix([ux, uy, uz])"
   ]
  },
  {
   "cell_type": "code",
   "execution_count": 6,
   "metadata": {
    "collapsed": true
   },
   "outputs": [],
   "source": [
    "# physical parametres\n",
    "mass, gravity, density, CD, radius, thrust = symbols(\"m g \\\\rho C_D r T_{max}\")\n",
    "\n",
    "# optimisation parametres\n",
    "alpha = symbols(\"\\\\alpha\")"
   ]
  },
  {
   "cell_type": "code",
   "execution_count": 7,
   "metadata": {
    "collapsed": true
   },
   "outputs": [],
   "source": [
    "# gravity\n",
    "g = Matrix([0, 0, -gravity])\n",
    "\n",
    "# planaform area\n",
    "A = pi*radius**2\n",
    "\n",
    "# volumetric displacement\n",
    "V = Rational(4,3)*pi*radius**3\n",
    "\n",
    "# velocity magnitude\n",
    "vmag = sqrt(v[0]**2 + v[1]**2 + v[2]**2)\n",
    "\n",
    "# velocity direction\n",
    "vhat = v/vmag\n",
    "\n",
    "# gravity\n",
    "ag = mass*g\n",
    "\n",
    "# fluid drag\n",
    "ad = - Rational(1,2)*density*vmag**2*vhat*CD*A\n",
    "\n",
    "# buoyancy\n",
    "ab = -density*V*g\n",
    "\n",
    "# thrust\n",
    "at = thrust*u*i/mass"
   ]
  },
  {
   "cell_type": "code",
   "execution_count": 8,
   "metadata": {},
   "outputs": [
    {
     "data": {
      "text/plain": [
       "'\\\\left[\\\\begin{matrix}v_{x}\\\\\\\\v_{y}\\\\\\\\v_{z}\\\\\\\\- \\\\frac{\\\\pi C_{D}}{2} \\\\rho r^{2} v_{x} \\\\sqrt{v_{x}^{2} + v_{y}^{2} + v_{z}^{2}} + \\\\frac{T_{max} u}{m} u_{x}\\\\\\\\- \\\\frac{\\\\pi C_{D}}{2} \\\\rho r^{2} v_{y} \\\\sqrt{v_{x}^{2} + v_{y}^{2} + v_{z}^{2}} + \\\\frac{T_{max} u}{m} u_{y}\\\\\\\\- \\\\frac{\\\\pi C_{D}}{2} \\\\rho r^{2} v_{z} \\\\sqrt{v_{x}^{2} + v_{y}^{2} + v_{z}^{2}} + \\\\frac{T_{max} u}{m} u_{z} + \\\\frac{4 \\\\pi}{3} \\\\rho g r^{3} - g m\\\\end{matrix}\\\\right]'"
      ]
     },
     "execution_count": 8,
     "metadata": {},
     "output_type": "execute_result"
    }
   ],
   "source": [
    "# rate of change of position\n",
    "dr = v\n",
    "\n",
    "# rate of change of velocity\n",
    "dv = ag + ad + ab + at\n",
    "\n",
    "# state equations of motion\n",
    "ds = Matrix([dr, dv])\n",
    "latex(ds)"
   ]
  },
  {
   "cell_type": "code",
   "execution_count": 9,
   "metadata": {},
   "outputs": [
    {
     "data": {
      "text/plain": [
       "'\\\\alpha u + u^{2} \\\\left(- \\\\alpha + 1\\\\right)'"
      ]
     },
     "execution_count": 9,
     "metadata": {},
     "output_type": "execute_result"
    }
   ],
   "source": [
    "# Lagrangian\n",
    "L = alpha*u + (1 - alpha)*u**2\n",
    "latex(L)"
   ]
  },
  {
   "cell_type": "code",
   "execution_count": 14,
   "metadata": {},
   "outputs": [
    {
     "data": {
      "image/png": "[encoded data removed]",
      "text/latex": [
       "$$\\frac{1}{m} \\left(- \\frac{\\lambda_{v_x}}{2} \\left(\\pi C_{D} \\rho m r^{2} v_{x} \\sqrt{v_{x}^{2} + v_{y}^{2} + v_{z}^{2}} - 2 T_{max} u u_{x}\\right) - \\frac{\\lambda_{v_y}}{2} \\left(\\pi C_{D} \\rho m r^{2} v_{y} \\sqrt{v_{x}^{2} + v_{y}^{2} + v_{z}^{2}} - 2 T_{max} u u_{y}\\right) - \\frac{\\lambda_{v_z}}{6} \\left(- 6 T_{max} u u_{z} + m \\left(3 \\pi C_{D} \\rho r^{2} v_{z} \\sqrt{v_{x}^{2} + v_{y}^{2} + v_{z}^{2}} - 8 \\pi \\rho g r^{3} + 6 g m\\right)\\right) + m \\left(\\alpha u + \\lambda_x v_{x} + \\lambda_y v_{y} + \\lambda_z v_{z} + u^{2} \\left(- \\alpha + 1\\right)\\right)\\right)$$"
      ],
      "text/plain": [
       "                ⎛                      ___________________                 ⎞  \n",
       "                ⎜              2      ╱   2      2      2                  ⎟  \n",
       "  \\lambda_{v_x}⋅⎝π⋅C_D⋅\\rho⋅m⋅r ⋅vₓ⋅╲╱  vₓ  + v_y  + v_z   - 2⋅T_{max}⋅u⋅uₓ⎠  \n",
       "- ────────────────────────────────────────────────────────────────────────── -\n",
       "                                      2                                       \n",
       "──────────────────────────────────────────────────────────────────────────────\n",
       "                                                                              \n",
       "\n",
       "               ⎛                       ___________________                  ⎞ \n",
       "               ⎜              2       ╱   2      2      2                   ⎟ \n",
       " \\lambda_{v_y}⋅⎝π⋅C_D⋅\\rho⋅m⋅r ⋅v_y⋅╲╱  vₓ  + v_y  + v_z   - 2⋅T_{max}⋅u⋅u_y⎠ \n",
       " ──────────────────────────────────────────────────────────────────────────── \n",
       "                                      2                                       \n",
       "──────────────────────────────────────────────────────────────────────────────\n",
       "                                                                              \n",
       "\n",
       "                ⎛                     ⎛                       ________________\n",
       "                ⎜                     ⎜              2       ╱   2      2     \n",
       "  \\lambda_{v_z}⋅⎝-6⋅T_{max}⋅u⋅u_z + m⋅⎝3⋅π⋅C_D⋅\\rho⋅r ⋅v_z⋅╲╱  vₓ  + v_y  + v_\n",
       "- ────────────────────────────────────────────────────────────────────────────\n",
       "                                                      6                       \n",
       "──────────────────────────────────────────────────────────────────────────────\n",
       "               m                                                              \n",
       "\n",
       "___                        ⎞⎞                                                 \n",
       " 2                3        ⎟⎟                                                 \n",
       "z   - 8⋅π⋅\\rho⋅g⋅r  + 6⋅g⋅m⎠⎠     ⎛                                           \n",
       "───────────────────────────── + m⋅⎝\\alpha⋅u + \\lambdaₓ⋅vₓ + \\lambda_y⋅v_y + \\l\n",
       "                                                                              \n",
       "──────────────────────────────────────────────────────────────────────────────\n",
       "                                                                              \n",
       "\n",
       "                               \n",
       "                               \n",
       "               2              ⎞\n",
       "ambda_z⋅v_z + u ⋅(-\\alpha + 1)⎠\n",
       "                               \n",
       "───────────────────────────────\n",
       "                               "
      ]
     },
     "execution_count": 14,
     "metadata": {},
     "output_type": "execute_result"
    }
   ],
   "source": [
    "# Hamiltonian\n",
    "H = l.dot(ds) + L\n",
    "simplify(H)"
   ]
  },
  {
   "cell_type": "code",
   "execution_count": 15,
   "metadata": {
    "collapsed": true
   },
   "outputs": [],
   "source": [
    "# costate equations of motion\n",
    "dl = Matrix([H.diff(dim) for dim in s])"
   ]
  },
  {
   "cell_type": "code",
   "execution_count": 16,
   "metadata": {
    "collapsed": true
   },
   "outputs": [],
   "source": [
    "# full state equations of motion\n",
    "dfs = Matrix([ds, dl])"
   ]
  },
  {
   "cell_type": "code",
   "execution_count": 17,
   "metadata": {},
   "outputs": [
    {
     "data": {
      "image/png": "[encoded data removed]",
      "text/latex": [
       "$$- \\frac{\\pi C_{D}}{2} \\lambda_{v_x} \\rho r^{2} v_{x} \\sqrt{v_{x}^{2} + v_{y}^{2} + v_{z}^{2}} - \\frac{\\pi C_{D}}{2} \\lambda_{v_y} \\rho r^{2} v_{y} \\sqrt{v_{x}^{2} + v_{y}^{2} + v_{z}^{2}} - \\frac{\\pi C_{D}}{2} \\lambda_{v_z} \\rho r^{2} v_{z} \\sqrt{v_{x}^{2} + v_{y}^{2} + v_{z}^{2}} + \\frac{T_{max} \\lambda_{v_x}}{m} u u_{x} + \\frac{T_{max} \\lambda_{v_y}}{m} u u_{y} + \\frac{T_{max} \\lambda_{v_z}}{m} u u_{z} - \\alpha u^{2} + \\alpha u + \\lambda_x v_{x} + \\lambda_y v_{y} + \\lambda_z v_{z} + \\frac{4 \\pi}{3} \\lambda_{v_z} \\rho g r^{3} - \\lambda_{v_z} g m + u^{2}$$"
      ],
      "text/plain": [
       "                                    ___________________                       \n",
       "                            2      ╱   2      2      2                        \n",
       "  π⋅C_D⋅\\lambda_{v_x}⋅\\rho⋅r ⋅vₓ⋅╲╱  vₓ  + v_y  + v_z     π⋅C_D⋅\\lambda_{v_y}⋅\n",
       "- ───────────────────────────────────────────────────── - ────────────────────\n",
       "                            2                                                 \n",
       "\n",
       "               ___________________                                      ______\n",
       "      2       ╱   2      2      2                              2       ╱   2  \n",
       "\\rho⋅r ⋅v_y⋅╲╱  vₓ  + v_y  + v_z     π⋅C_D⋅\\lambda_{v_z}⋅\\rho⋅r ⋅v_z⋅╲╱  vₓ  +\n",
       "────────────────────────────────── - ─────────────────────────────────────────\n",
       "      2                                                        2              \n",
       "\n",
       "_____________                                                                 \n",
       "    2      2                                                                  \n",
       " v_y  + v_z     T_{max}⋅\\lambda_{v_x}⋅u⋅uₓ   T_{max}⋅\\lambda_{v_y}⋅u⋅u_y   T_{\n",
       "───────────── + ────────────────────────── + ─────────────────────────── + ───\n",
       "                            m                             m                   \n",
       "\n",
       "                                                                              \n",
       "                                                                              \n",
       "max}⋅\\lambda_{v_z}⋅u⋅u_z           2                                          \n",
       "──────────────────────── - \\alpha⋅u  + \\alpha⋅u + \\lambdaₓ⋅vₓ + \\lambda_y⋅v_y \n",
       "          m                                                                   \n",
       "\n",
       "                                                                      \n",
       "                                            3                         \n",
       "                  4⋅π⋅\\lambda_{v_z}⋅\\rho⋅g⋅r                         2\n",
       "+ \\lambda_z⋅v_z + ─────────────────────────── - \\lambda_{v_z}⋅g⋅m + u \n",
       "                               3                                      "
      ]
     },
     "execution_count": 17,
     "metadata": {},
     "output_type": "execute_result"
    }
   ],
   "source": [
    "expand(H)"
   ]
  },
  {
   "cell_type": "code",
   "execution_count": 18,
   "metadata": {},
   "outputs": [
    {
     "data": {
      "image/png": "[encoded data removed]",
      "text/latex": [
       "$$\\frac{T_{max} u}{m} \\left(\\lambda_{v_x} u_{x} + \\lambda_{v_y} u_{y} + \\lambda_{v_z} u_{z}\\right)$$"
      ],
      "text/plain": [
       "T_{max}⋅u⋅(\\lambda_{v_x}⋅uₓ + \\lambda_{v_y}⋅u_y + \\lambda_{v_z}⋅u_z)\n",
       "────────────────────────────────────────────────────────────────────\n",
       "                                 m                                  "
      ]
     },
     "execution_count": 18,
     "metadata": {},
     "output_type": "execute_result"
    }
   ],
   "source": [
    "# Hamiltonian terms dependant on thrust direction\n",
    "Hi = thrust*u/mass * lv.dot(i)\n",
    "Hi"
   ]
  },
  {
   "cell_type": "code",
   "execution_count": 19,
   "metadata": {},
   "outputs": [
    {
     "data": {
      "text/plain": [
       "'\\\\left[\\\\begin{matrix}- \\\\frac{\\\\lambda_{v_x}}{\\\\sqrt{\\\\lambda_{v_x}^{2} + \\\\lambda_{v_y}^{2} + \\\\lambda_{v_z}^{2}}}\\\\\\\\- \\\\frac{\\\\lambda_{v_y}}{\\\\sqrt{\\\\lambda_{v_x}^{2} + \\\\lambda_{v_y}^{2} + \\\\lambda_{v_z}^{2}}}\\\\\\\\- \\\\frac{\\\\lambda_{v_z}}{\\\\sqrt{\\\\lambda_{v_x}^{2} + \\\\lambda_{v_y}^{2} + \\\\lambda_{v_z}^{2}}}\\\\end{matrix}\\\\right]'"
      ]
     },
     "execution_count": 19,
     "metadata": {},
     "output_type": "execute_result"
    }
   ],
   "source": [
    "# optimal thrust direction minimising Hamiltonian terms dependant on thrust direction\n",
    "lvmag = sqrt(lvx**2 + lvy**2 + lvz**2)\n",
    "i = -lv/lvmag\n",
    "latex(simplify(i))"
   ]
  },
  {
   "cell_type": "code",
   "execution_count": 20,
   "metadata": {},
   "outputs": [
    {
     "data": {
      "text/plain": [
       "'\\\\alpha u + \\\\lambda_x v_{x} + \\\\lambda_y v_{y} + \\\\lambda_z v_{z} + \\\\lambda_{v_x} \\\\left(- \\\\frac{\\\\pi C_{D}}{2} \\\\rho r^{2} v_{x} \\\\sqrt{v_{x}^{2} + v_{y}^{2} + v_{z}^{2}} - \\\\frac{T_{max} \\\\lambda_{v_x} u}{m \\\\sqrt{\\\\lambda_{v_x}^{2} + \\\\lambda_{v_y}^{2} + \\\\lambda_{v_z}^{2}}}\\\\right) + \\\\lambda_{v_y} \\\\left(- \\\\frac{\\\\pi C_{D}}{2} \\\\rho r^{2} v_{y} \\\\sqrt{v_{x}^{2} + v_{y}^{2} + v_{z}^{2}} - \\\\frac{T_{max} \\\\lambda_{v_y} u}{m \\\\sqrt{\\\\lambda_{v_x}^{2} + \\\\lambda_{v_y}^{2} + \\\\lambda_{v_z}^{2}}}\\\\right) + \\\\lambda_{v_z} \\\\left(- \\\\frac{\\\\pi C_{D}}{2} \\\\rho r^{2} v_{z} \\\\sqrt{v_{x}^{2} + v_{y}^{2} + v_{z}^{2}} - \\\\frac{T_{max} \\\\lambda_{v_z} u}{m \\\\sqrt{\\\\lambda_{v_x}^{2} + \\\\lambda_{v_y}^{2} + \\\\lambda_{v_z}^{2}}} + \\\\frac{4 \\\\pi}{3} \\\\rho g r^{3} - g m\\\\right) + u^{2} \\\\left(- \\\\alpha + 1\\\\right)'"
      ]
     },
     "execution_count": 20,
     "metadata": {},
     "output_type": "execute_result"
    }
   ],
   "source": [
    "# substitute optimal thrust\n",
    "at = thrust*u*i/mass\n",
    "dv = ag + ad + ab + at\n",
    "ds = Matrix([dr, dv])\n",
    "H = l.dot(ds) + L\n",
    "dl = Matrix([H.diff(dim) for dim in s])\n",
    "dfs = Matrix([ds, dl])\n",
    "\n",
    "latex(H)"
   ]
  },
  {
   "cell_type": "code",
   "execution_count": 21,
   "metadata": {},
   "outputs": [
    {
     "data": {
      "image/png": "[encoded data removed]",
      "text/latex": [
       "$$- \\frac{T_{max} \\lambda_{v_x}^{2} u}{m \\sqrt{\\lambda_{v_x}^{2} + \\lambda_{v_y}^{2} + \\lambda_{v_z}^{2}}} - \\frac{T_{max} \\lambda_{v_y}^{2} u}{m \\sqrt{\\lambda_{v_x}^{2} + \\lambda_{v_y}^{2} + \\lambda_{v_z}^{2}}} - \\frac{T_{max} \\lambda_{v_z}^{2} u}{m \\sqrt{\\lambda_{v_x}^{2} + \\lambda_{v_y}^{2} + \\lambda_{v_z}^{2}}} + \\alpha u + u^{2} \\left(- \\alpha + 1\\right)$$"
      ],
      "text/plain": [
       "                                       2                                      \n",
       "                  T_{max}⋅\\lambda_{v_x} ⋅u                                  T_\n",
       "- ─────────────────────────────────────────────────────── - ──────────────────\n",
       "       __________________________________________________        _____________\n",
       "      ╱              2                2                2        ╱             \n",
       "  m⋅╲╱  \\lambda_{v_x}  + \\lambda_{v_y}  + \\lambda_{v_z}     m⋅╲╱  \\lambda_{v_x\n",
       "\n",
       "                   2                                                         2\n",
       "{max}⋅\\lambda_{v_y} ⋅u                                  T_{max}⋅\\lambda_{v_z} \n",
       "───────────────────────────────────── - ──────────────────────────────────────\n",
       "_____________________________________        _________________________________\n",
       " 2                2                2        ╱              2                2 \n",
       "}  + \\lambda_{v_y}  + \\lambda_{v_z}     m⋅╲╱  \\lambda_{v_x}  + \\lambda_{v_y}  \n",
       "\n",
       "                                               \n",
       "⋅u                              2              \n",
       "───────────────── + \\alpha⋅u + u ⋅(-\\alpha + 1)\n",
       "_________________                              \n",
       "               2                               \n",
       "+ \\lambda_{v_z}                                "
      ]
     },
     "execution_count": 21,
     "metadata": {},
     "output_type": "execute_result"
    }
   ],
   "source": [
    "# Hamiltonian terms dependant on thrust magnitude\n",
    "Hu = (-thrust/mass/lvmag*u*lv).dot(lv) + L\n",
    "Hu"
   ]
  },
  {
   "cell_type": "code",
   "execution_count": 22,
   "metadata": {},
   "outputs": [
    {
     "data": {
      "image/png": "[encoded data removed]",
      "text/latex": [
       "$$\\frac{- T_{max} \\lambda_{v_x}^{2} - T_{max} \\lambda_{v_y}^{2} - T_{max} \\lambda_{v_z}^{2} + \\alpha m \\sqrt{\\lambda_{v_x}^{2} + \\lambda_{v_y}^{2} + \\lambda_{v_z}^{2}}}{2 m \\left(\\alpha - 1\\right) \\sqrt{\\lambda_{v_x}^{2} + \\lambda_{v_y}^{2} + \\lambda_{v_z}^{2}}}$$"
      ],
      "text/plain": [
       "                                                                              \n",
       "                       2                        2                        2    \n",
       "- T_{max}⋅\\lambda_{v_x}  - T_{max}⋅\\lambda_{v_y}  - T_{max}⋅\\lambda_{v_z}  + \\\n",
       "──────────────────────────────────────────────────────────────────────────────\n",
       "                                                       _______________________\n",
       "                                                      ╱              2        \n",
       "                                   2⋅m⋅(\\alpha - 1)⋅╲╱  \\lambda_{v_x}  + \\lamb\n",
       "\n",
       "           __________________________________________________\n",
       "          ╱              2                2                2 \n",
       "alpha⋅m⋅╲╱  \\lambda_{v_x}  + \\lambda_{v_y}  + \\lambda_{v_z}  \n",
       "─────────────────────────────────────────────────────────────\n",
       "___________________________                                  \n",
       "        2                2                                   \n",
       "da_{v_y}  + \\lambda_{v_z}                                    "
      ]
     },
     "execution_count": 22,
     "metadata": {},
     "output_type": "execute_result"
    }
   ],
   "source": [
    "ustar = solve(Hu.diff(u), u)[0]\n",
    "simplify(ustar)"
   ]
  },
  {
   "cell_type": "code",
   "execution_count": null,
   "metadata": {},
   "outputs": [],
   "source": [
    "dfs = dfs.subs(u, symbols(\"u^*\"))\n",
    "latex(dfs, mode='equation', itex=True)"
   ]
  },
  {
   "cell_type": "code",
   "execution_count": null,
   "metadata": {},
   "outputs": [],
   "source": [
    "simplify(at)"
   ]
  },
  {
   "cell_type": "code",
   "execution_count": null,
   "metadata": {
    "collapsed": true
   },
   "outputs": [],
   "source": [
    "# save\n",
    "f = open(\"auv.tex\", \"w\")\n",
    "f.write(latex(ds))\n",
    "f.close()"
   ]
  }
 ],
 "metadata": {
  "kernelspec": {
   "display_name": "Python 3",
   "language": "python",
   "name": "python3"
  },
  "language_info": {
   "codemirror_mode": {
    "name": "ipython",
    "version": 3
   },
   "file_extension": ".py",
   "mimetype": "text/x-python",
   "name": "python",
   "nbconvert_exporter": "python",
   "pygments_lexer": "ipython3",
   "version": "3.6.4"
  }
 },
 "nbformat": 4,
 "nbformat_minor": 2
}
