{
 "cells": [
  {
   "cell_type": "code",
   "execution_count": null,
   "metadata": {
    "collapsed": true
   },
   "outputs": [],
   "source": [
    "from sympy import *\n",
    "init_printing()"
   ]
  },
  {
   "cell_type": "code",
   "execution_count": null,
   "metadata": {
    "collapsed": true
   },
   "outputs": [],
   "source": [
    "# state\n",
    "x, y, z, vx, vy, vz = symbols('x y z v_x v_y v_z')\n",
    "p                      = Matrix([x, y, z])\n",
    "v                      = Matrix([vx, vy, vz])\n",
    "s                      = Matrix([p, v])"
   ]
  },
  {
   "cell_type": "code",
   "execution_count": null,
   "metadata": {
    "collapsed": true
   },
   "outputs": [],
   "source": [
    "# costate\n",
    "lx, ly, lz, lvx, lvy, lvz = symbols('\\\\lambda_x \\\\lambda_y \\\\lambda_z \\\\lambda_{v_x} \\\\lambda_{v_y} \\\\lambda_{v_z}')\n",
    "lp                            = Matrix([lx, ly, lz])\n",
    "lv                            = Matrix([lvx, lvy, lvz])\n",
    "l                             = Matrix([lp, lv])"
   ]
  },
  {
   "cell_type": "code",
   "execution_count": null,
   "metadata": {},
   "outputs": [],
   "source": [
    "# fullstate\n",
    "fs = Matrix([s, l])\n",
    "fs"
   ]
  },
  {
   "cell_type": "code",
   "execution_count": null,
   "metadata": {
    "collapsed": true
   },
   "outputs": [],
   "source": [
    "# control: throttle and direction\n",
    "ut, ub, ux, uy, uz = symbols(\"u_t u_b u_x, u_y u_z\")\n",
    "i = Matrix([ux, uy, uz])\n",
    "actions = Matrix([ut, ub, ux, uy, uz])"
   ]
  },
  {
   "cell_type": "code",
   "execution_count": null,
   "metadata": {
    "collapsed": true
   },
   "outputs": [],
   "source": [
    "# physical parametres\n",
    "mass, gravity, density, CD, planaform, volume, thrust = symbols(\"m g \\\\rho C_D A V T_{max}\")\n",
    "vfx, vfy, vfz = symbols(\"v_{f_x} v_{f_y} v_{f_z}\")\n",
    "vf = Matrix([vfx, vfy, vfz])\n",
    "\n",
    "# optimisation parametres\n",
    "alpha = symbols(\"\\\\alpha\")"
   ]
  },
  {
   "cell_type": "code",
   "execution_count": null,
   "metadata": {
    "collapsed": true
   },
   "outputs": [],
   "source": [
    "# Lagrange multiplier\n",
    "gamma, beta = symbols(\"\\\\gamma \\\\beta\")"
   ]
  },
  {
   "cell_type": "code",
   "execution_count": null,
   "metadata": {
    "collapsed": true
   },
   "outputs": [],
   "source": [
    "# gravity\n",
    "g = Matrix([0, 0, -gravity])\n",
    "\n",
    "# velocity relative to stream\n",
    "vinf = v - vf\n",
    "\n",
    "# velocity magnitude\n",
    "vmag = sqrt(vinf[0]**2 + vinf[1]**2 + vinf[2]**2)\n",
    "\n",
    "# velocity direction\n",
    "vhat = v/vmag\n",
    "\n",
    "# gravity\n",
    "Fg = mass*g\n",
    "\n",
    "# fluid drag\n",
    "Fd = - Rational(1,2)*density*vmag**2*vhat*CD*planaform\n",
    "\n",
    "# buoyancy\n",
    "Fb = -density*volume*g*ub\n",
    "\n",
    "# thrust\n",
    "Ft = thrust*ut*i"
   ]
  },
  {
   "cell_type": "code",
   "execution_count": null,
   "metadata": {},
   "outputs": [],
   "source": [
    "# rate of change of position\n",
    "dr = v\n",
    "\n",
    "# rate of change of velocity\n",
    "dv = (Fg + Fd + Fb + Ft)/mass\n",
    "\n",
    "# state equations of motion\n",
    "ds = Matrix([dr, dv])\n",
    "ds"
   ]
  },
  {
   "cell_type": "code",
   "execution_count": null,
   "metadata": {},
   "outputs": [],
   "source": [
    "# Lagrangian\n",
    "L = ut\n",
    "L = alpha*L + (1 - alpha)*L**2\n",
    "L"
   ]
  },
  {
   "cell_type": "code",
   "execution_count": null,
   "metadata": {},
   "outputs": [],
   "source": [
    "# Hamiltonian\n",
    "H = l.dot(ds) + L\n",
    "H"
   ]
  },
  {
   "cell_type": "code",
   "execution_count": null,
   "metadata": {},
   "outputs": [],
   "source": [
    "# terms of Hamiltonian dependant on thrust direction\n",
    "Hi = sum([term for term in expand(H).args if (ux in term.free_symbols or uy in term.free_symbols or uz in term.free_symbols)])\n",
    "dell = [diff(Hi + gamma*(sqrt(ux**2 + uy**2 + uz**2) - 1), var) for var in [ux, uy, uz, gamma]]\n",
    "uxstar, uystar, uzstar, gammastar = solve(dell, [ux, uy, uz, gamma])[0]\n",
    "istar = Matrix([uxstar, uystar, uzstar])\n",
    "istar"
   ]
  },
  {
   "cell_type": "code",
   "execution_count": null,
   "metadata": {},
   "outputs": [],
   "source": [
    "H = H.subs(ux, uxstar).subs(uy, uystar).subs(uz, uzstar)\n",
    "H"
   ]
  },
  {
   "cell_type": "code",
   "execution_count": null,
   "metadata": {},
   "outputs": [],
   "source": [
    "# terms of Hamiltonian dependant on thrust magnitude\n",
    "Hut = sum([term for term in expand(H).args if (ut in term.free_symbols)])\n",
    "# Lagrangian\n",
    "dell = [diff(Hut, var) for var in [ut]]\n",
    "utstar = solve(dell, [ut])[ut]\n",
    "utstar"
   ]
  },
  {
   "cell_type": "code",
   "execution_count": null,
   "metadata": {},
   "outputs": [],
   "source": [
    "H = H.subs(ut, utstar)\n",
    "H"
   ]
  },
  {
   "cell_type": "code",
   "execution_count": null,
   "metadata": {},
   "outputs": [],
   "source": [
    "Hub = sum([term for term in expand(H).args if (ub in term.free_symbols)])\n",
    "dell = [diff(H, var) for var in [ub]]\n",
    "Hub"
   ]
  },
  {
   "cell_type": "code",
   "execution_count": null,
   "metadata": {
    "collapsed": true
   },
   "outputs": [],
   "source": []
  }
 ],
 "metadata": {
  "kernelspec": {
   "display_name": "Python 3",
   "language": "python",
   "name": "python3"
  },
  "language_info": {
   "codemirror_mode": {
    "name": "ipython",
    "version": 3
   },
   "file_extension": ".py",
   "mimetype": "text/x-python",
   "name": "python",
   "nbconvert_exporter": "python",
   "pygments_lexer": "ipython3",
   "version": "3.6.4"
  }
 },
 "nbformat": 4,
 "nbformat_minor": 2
}
