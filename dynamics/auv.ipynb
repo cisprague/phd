{
 "cells": [
  {
   "cell_type": "code",
   "execution_count": 1,
   "metadata": {
    "collapsed": true
   },
   "outputs": [],
   "source": [
    "from numpy import *\n",
    "from sympy import *\n",
    "init_printing()"
   ]
  },
  {
   "cell_type": "code",
   "execution_count": 2,
   "metadata": {
    "collapsed": true
   },
   "outputs": [],
   "source": [
    "# state\n",
    "x, y, z, vx, vy, vz = symbols('x y z v_x v_y v_z')\n",
    "r                      = Matrix([x, y, z])\n",
    "v                      = Matrix([vx, vy, vz])\n",
    "s                      = Matrix([r, v])"
   ]
  },
  {
   "cell_type": "code",
   "execution_count": 3,
   "metadata": {},
   "outputs": [],
   "source": [
    "# costate\n",
    "lx, ly, lz, lvx, lvy, lvz = symbols(\n",
    "    '\\\\lambda_x \\\\lambda_y \\\\lambda_z \\\\lambda_{v_x} \\\\lambda_{v_y} \\\\lambda_{v_z}')\n",
    "lr                            = Matrix([lx, ly, lz])\n",
    "lv                            = Matrix([lvx, lvy, lvz])\n",
    "l                             = Matrix([lr, lv])"
   ]
  },
  {
   "cell_type": "code",
   "execution_count": 4,
   "metadata": {},
   "outputs": [],
   "source": [
    "# fullstate\n",
    "fs = Matrix([s, l])"
   ]
  },
  {
   "cell_type": "code",
   "execution_count": 5,
   "metadata": {
    "collapsed": true
   },
   "outputs": [],
   "source": [
    "# control: throttle and direction\n",
    "u, ux, uy, uz = symbols(\"u, u_x, u_y u_z\")\n",
    "i = Matrix([ux, uy, uz])"
   ]
  },
  {
   "cell_type": "code",
   "execution_count": 6,
   "metadata": {},
   "outputs": [],
   "source": [
    "# physical parametres\n",
    "mass, gravity, density, CD, radius, thrust = symbols(\"m g \\\\rho C_D r T_{max}\")\n",
    "\n",
    "# optimisation parametres\n",
    "alpha = symbols(\"\\\\alpha\")"
   ]
  },
  {
   "cell_type": "code",
   "execution_count": 7,
   "metadata": {},
   "outputs": [],
   "source": [
    "# gravity\n",
    "g = Matrix([0, 0, -gravity])\n",
    "\n",
    "# planaform area\n",
    "A = pi*radius**2\n",
    "\n",
    "# volumetric displacement\n",
    "V = Rational(4,3)*pi*radius**3\n",
    "\n",
    "# velocity magnitude\n",
    "vmag = sqrt(v[0]**2 + v[1]**2 + v[2]**2)\n",
    "\n",
    "# velocity direction\n",
    "vhat = v/vmag\n",
    "\n",
    "# gravity\n",
    "ag = mass*g\n",
    "\n",
    "# fluid drag\n",
    "ad = - Rational(1,2)*density*vmag**2*vhat*CD*A\n",
    "\n",
    "# buoyancy\n",
    "ab = -density*V*g\n",
    "\n",
    "# thrust\n",
    "at = thrust*u*i/mass"
   ]
  },
  {
   "cell_type": "code",
   "execution_count": 8,
   "metadata": {},
   "outputs": [],
   "source": [
    "# rate of change of position\n",
    "dr = v\n",
    "\n",
    "# rate of change of velocity\n",
    "dv = ag + ad + ab + at\n",
    "\n",
    "# state equations of motion\n",
    "ds = Matrix([dr, dv])"
   ]
  },
  {
   "cell_type": "code",
   "execution_count": 9,
   "metadata": {},
   "outputs": [],
   "source": [
    "# Lagrangian\n",
    "L = alpha*u + (1 - alpha)*u**2"
   ]
  },
  {
   "cell_type": "code",
   "execution_count": 10,
   "metadata": {},
   "outputs": [
    {
     "data": {
      "image/png": "[encoded data removed]",
      "text/latex": [
       "$$\\alpha u + \\lambda_x v_{x} + \\lambda_y v_{y} + \\lambda_z v_{z} + \\lambda_{v_x} \\left(- \\frac{\\pi C_{D}}{2} \\rho r^{2} v_{x} \\sqrt{v_{x}^{2} + v_{y}^{2} + v_{z}^{2}} + \\frac{T_{max} u}{m} u_{x}\\right) + \\lambda_{v_y} \\left(- \\frac{\\pi C_{D}}{2} \\rho r^{2} v_{y} \\sqrt{v_{x}^{2} + v_{y}^{2} + v_{z}^{2}} + \\frac{T_{max} u}{m} u_{y}\\right) + \\lambda_{v_z} \\left(- \\frac{\\pi C_{D}}{2} \\rho r^{2} v_{z} \\sqrt{v_{x}^{2} + v_{y}^{2} + v_{z}^{2}} + \\frac{T_{max} u}{m} u_{z} + \\frac{4 \\pi}{3} \\rho g r^{3} - g m\\right) + u^{2} \\left(- \\alpha + 1\\right)$$"
      ],
      "text/plain": [
       "                                                                       ⎛      \n",
       "                                                                       ⎜      \n",
       "                                                                       ⎜  π⋅C_\n",
       "\\alpha⋅u + \\lambdaₓ⋅vₓ + \\lambda_y⋅v_y + \\lambda_z⋅v_z + \\lambda_{v_x}⋅⎜- ────\n",
       "                                                                       ⎝      \n",
       "\n",
       "                ___________________               ⎞                 ⎛         \n",
       "        2      ╱   2      2      2                ⎟                 ⎜         \n",
       "D⋅\\rho⋅r ⋅vₓ⋅╲╱  vₓ  + v_y  + v_z     T_{max}⋅u⋅uₓ⎟                 ⎜  π⋅C_D⋅\\\n",
       "─────────────────────────────────── + ────────────⎟ + \\lambda_{v_y}⋅⎜- ───────\n",
       "               2                           m      ⎠                 ⎝         \n",
       "\n",
       "              ___________________                ⎞                 ⎛          \n",
       "     2       ╱   2      2      2                 ⎟                 ⎜          \n",
       "rho⋅r ⋅v_y⋅╲╱  vₓ  + v_y  + v_z     T_{max}⋅u⋅u_y⎟                 ⎜  π⋅C_D⋅\\r\n",
       "───────────────────────────────── + ─────────────⎟ + \\lambda_{v_z}⋅⎜- ────────\n",
       "            2                             m      ⎠                 ⎝          \n",
       "\n",
       "             ___________________                                      ⎞       \n",
       "    2       ╱   2      2      2                                3      ⎟       \n",
       "ho⋅r ⋅v_z⋅╲╱  vₓ  + v_y  + v_z     T_{max}⋅u⋅u_z   4⋅π⋅\\rho⋅g⋅r       ⎟    2  \n",
       "──────────────────────────────── + ───────────── + ───────────── - g⋅m⎟ + u ⋅(\n",
       "           2                             m               3            ⎠       \n",
       "\n",
       "            \n",
       "            \n",
       "            \n",
       "-\\alpha + 1)\n",
       "            "
      ]
     },
     "execution_count": 10,
     "metadata": {},
     "output_type": "execute_result"
    }
   ],
   "source": [
    "# Hamiltonian\n",
    "H = l.dot(ds) + L\n",
    "H"
   ]
  },
  {
   "cell_type": "code",
   "execution_count": 11,
   "metadata": {},
   "outputs": [],
   "source": [
    "# costate equations of motion\n",
    "dl = Matrix([H.diff(dim) for dim in s])"
   ]
  },
  {
   "cell_type": "code",
   "execution_count": 12,
   "metadata": {},
   "outputs": [],
   "source": [
    "# full state equations of motion\n",
    "dfs = Matrix([ds, dl])"
   ]
  },
  {
   "cell_type": "code",
   "execution_count": 13,
   "metadata": {},
   "outputs": [
    {
     "data": {
      "image/png": "[encoded data removed]",
      "text/latex": [
       "$$- \\frac{\\pi C_{D}}{2} \\lambda_{v_x} \\rho r^{2} v_{x} \\sqrt{v_{x}^{2} + v_{y}^{2} + v_{z}^{2}} - \\frac{\\pi C_{D}}{2} \\lambda_{v_y} \\rho r^{2} v_{y} \\sqrt{v_{x}^{2} + v_{y}^{2} + v_{z}^{2}} - \\frac{\\pi C_{D}}{2} \\lambda_{v_z} \\rho r^{2} v_{z} \\sqrt{v_{x}^{2} + v_{y}^{2} + v_{z}^{2}} + \\frac{T_{max} \\lambda_{v_x}}{m} u u_{x} + \\frac{T_{max} \\lambda_{v_y}}{m} u u_{y} + \\frac{T_{max} \\lambda_{v_z}}{m} u u_{z} - \\alpha u^{2} + \\alpha u + \\lambda_x v_{x} + \\lambda_y v_{y} + \\lambda_z v_{z} + \\frac{4 \\pi}{3} \\lambda_{v_z} \\rho g r^{3} - \\lambda_{v_z} g m + u^{2}$$"
      ],
      "text/plain": [
       "                                    ___________________                       \n",
       "                            2      ╱   2      2      2                        \n",
       "  π⋅C_D⋅\\lambda_{v_x}⋅\\rho⋅r ⋅vₓ⋅╲╱  vₓ  + v_y  + v_z     π⋅C_D⋅\\lambda_{v_y}⋅\n",
       "- ───────────────────────────────────────────────────── - ────────────────────\n",
       "                            2                                                 \n",
       "\n",
       "               ___________________                                      ______\n",
       "      2       ╱   2      2      2                              2       ╱   2  \n",
       "\\rho⋅r ⋅v_y⋅╲╱  vₓ  + v_y  + v_z     π⋅C_D⋅\\lambda_{v_z}⋅\\rho⋅r ⋅v_z⋅╲╱  vₓ  +\n",
       "────────────────────────────────── - ─────────────────────────────────────────\n",
       "      2                                                        2              \n",
       "\n",
       "_____________                                                                 \n",
       "    2      2                                                                  \n",
       " v_y  + v_z     T_{max}⋅\\lambda_{v_x}⋅u⋅uₓ   T_{max}⋅\\lambda_{v_y}⋅u⋅u_y   T_{\n",
       "───────────── + ────────────────────────── + ─────────────────────────── + ───\n",
       "                            m                             m                   \n",
       "\n",
       "                                                                              \n",
       "                                                                              \n",
       "max}⋅\\lambda_{v_z}⋅u⋅u_z           2                                          \n",
       "──────────────────────── - \\alpha⋅u  + \\alpha⋅u + \\lambdaₓ⋅vₓ + \\lambda_y⋅v_y \n",
       "          m                                                                   \n",
       "\n",
       "                                                                      \n",
       "                                            3                         \n",
       "                  4⋅π⋅\\lambda_{v_z}⋅\\rho⋅g⋅r                         2\n",
       "+ \\lambda_z⋅v_z + ─────────────────────────── - \\lambda_{v_z}⋅g⋅m + u \n",
       "                               3                                      "
      ]
     },
     "execution_count": 13,
     "metadata": {},
     "output_type": "execute_result"
    }
   ],
   "source": [
    "expand(H)"
   ]
  },
  {
   "cell_type": "code",
   "execution_count": 14,
   "metadata": {},
   "outputs": [
    {
     "data": {
      "image/png": "[encoded data removed]",
      "text/latex": [
       "$$\\frac{T_{max} u}{m} \\left(\\lambda_{v_x} u_{x} + \\lambda_{v_y} u_{y} + \\lambda_{v_z} u_{z}\\right)$$"
      ],
      "text/plain": [
       "T_{max}⋅u⋅(\\lambda_{v_x}⋅uₓ + \\lambda_{v_y}⋅u_y + \\lambda_{v_z}⋅u_z)\n",
       "────────────────────────────────────────────────────────────────────\n",
       "                                 m                                  "
      ]
     },
     "execution_count": 14,
     "metadata": {},
     "output_type": "execute_result"
    }
   ],
   "source": [
    "# Hamiltonian terms dependant on thrust direction\n",
    "Hi = thrust*u/mass * lv.dot(i)\n",
    "Hi"
   ]
  },
  {
   "cell_type": "code",
   "execution_count": 15,
   "metadata": {},
   "outputs": [
    {
     "data": {
      "text/latex": [
       "$$\\left[\\begin{matrix}- \\frac{\\lambda_{v_x}}{\\sqrt{\\lambda_{v_x}^{2} + \\lambda_{v_y}^{2} + \\lambda_{v_z}^{2}}}\\\\- \\frac{\\lambda_{v_y}}{\\sqrt{\\lambda_{v_x}^{2} + \\lambda_{v_y}^{2} + \\lambda_{v_z}^{2}}}\\\\- \\frac{\\lambda_{v_z}}{\\sqrt{\\lambda_{v_x}^{2} + \\lambda_{v_y}^{2} + \\lambda_{v_z}^{2}}}\\end{matrix}\\right]$$"
      ],
      "text/plain": [
       "⎡                   -\\lambda_{v_x}                    ⎤\n",
       "⎢─────────────────────────────────────────────────────⎥\n",
       "⎢   __________________________________________________⎥\n",
       "⎢  ╱              2                2                2 ⎥\n",
       "⎢╲╱  \\lambda_{v_x}  + \\lambda_{v_y}  + \\lambda_{v_z}  ⎥\n",
       "⎢                                                     ⎥\n",
       "⎢                   -\\lambda_{v_y}                    ⎥\n",
       "⎢─────────────────────────────────────────────────────⎥\n",
       "⎢   __________________________________________________⎥\n",
       "⎢  ╱              2                2                2 ⎥\n",
       "⎢╲╱  \\lambda_{v_x}  + \\lambda_{v_y}  + \\lambda_{v_z}  ⎥\n",
       "⎢                                                     ⎥\n",
       "⎢                   -\\lambda_{v_z}                    ⎥\n",
       "⎢─────────────────────────────────────────────────────⎥\n",
       "⎢   __________________________________________________⎥\n",
       "⎢  ╱              2                2                2 ⎥\n",
       "⎣╲╱  \\lambda_{v_x}  + \\lambda_{v_y}  + \\lambda_{v_z}  ⎦"
      ]
     },
     "execution_count": 15,
     "metadata": {},
     "output_type": "execute_result"
    }
   ],
   "source": [
    "# optimal thrust direction minimising Hamiltonian terms dependant on thrust direction\n",
    "lvmag = sqrt(lvx**2 + lvy**2 + lvz**2)\n",
    "i = -lv/lvmag\n",
    "i"
   ]
  },
  {
   "cell_type": "code",
   "execution_count": 16,
   "metadata": {},
   "outputs": [
    {
     "data": {
      "image/png": "[encoded data removed]",
      "text/latex": [
       "$$- \\frac{\\pi C_{D}}{2} \\lambda_{v_x} \\rho r^{2} v_{x} \\sqrt{v_{x}^{2} + v_{y}^{2} + v_{z}^{2}} - \\frac{\\pi C_{D}}{2} \\lambda_{v_y} \\rho r^{2} v_{y} \\sqrt{v_{x}^{2} + v_{y}^{2} + v_{z}^{2}} - \\frac{\\pi C_{D}}{2} \\lambda_{v_z} \\rho r^{2} v_{z} \\sqrt{v_{x}^{2} + v_{y}^{2} + v_{z}^{2}} - \\frac{T_{max} \\lambda_{v_x}^{2} u}{m \\sqrt{\\lambda_{v_x}^{2} + \\lambda_{v_y}^{2} + \\lambda_{v_z}^{2}}} - \\frac{T_{max} \\lambda_{v_y}^{2} u}{m \\sqrt{\\lambda_{v_x}^{2} + \\lambda_{v_y}^{2} + \\lambda_{v_z}^{2}}} - \\frac{T_{max} \\lambda_{v_z}^{2} u}{m \\sqrt{\\lambda_{v_x}^{2} + \\lambda_{v_y}^{2} + \\lambda_{v_z}^{2}}} - \\alpha u^{2} + \\alpha u + \\lambda_x v_{x} + \\lambda_y v_{y} + \\lambda_z v_{z} + \\frac{4 \\pi}{3} \\lambda_{v_z} \\rho g r^{3} - \\lambda_{v_z} g m + u^{2}$$"
      ],
      "text/plain": [
       "                                    ___________________                       \n",
       "                            2      ╱   2      2      2                        \n",
       "  π⋅C_D⋅\\lambda_{v_x}⋅\\rho⋅r ⋅vₓ⋅╲╱  vₓ  + v_y  + v_z     π⋅C_D⋅\\lambda_{v_y}⋅\n",
       "- ───────────────────────────────────────────────────── - ────────────────────\n",
       "                            2                                                 \n",
       "                                                                              \n",
       "                                                                              \n",
       "\n",
       "               ___________________                                      ______\n",
       "      2       ╱   2      2      2                              2       ╱   2  \n",
       "\\rho⋅r ⋅v_y⋅╲╱  vₓ  + v_y  + v_z     π⋅C_D⋅\\lambda_{v_z}⋅\\rho⋅r ⋅v_z⋅╲╱  vₓ  +\n",
       "────────────────────────────────── - ─────────────────────────────────────────\n",
       "      2                                                        2              \n",
       "                                                                              \n",
       "                                                                              \n",
       "\n",
       "_____________                                                                 \n",
       "    2      2                                         2                        \n",
       " v_y  + v_z                     T_{max}⋅\\lambda_{v_x} ⋅u                      \n",
       "───────────── - ─────────────────────────────────────────────────────── - ────\n",
       "                     __________________________________________________       \n",
       "                    ╱              2                2                2        \n",
       "                m⋅╲╱  \\lambda_{v_x}  + \\lambda_{v_y}  + \\lambda_{v_z}     m⋅╲╱\n",
       "\n",
       "                                                                              \n",
       "                                 2                                            \n",
       "            T_{max}⋅\\lambda_{v_y} ⋅u                                  T_{max}⋅\n",
       "─────────────────────────────────────────────────── - ────────────────────────\n",
       " __________________________________________________        ___________________\n",
       "╱              2                2                2        ╱              2    \n",
       "  \\lambda_{v_x}  + \\lambda_{v_y}  + \\lambda_{v_z}     m⋅╲╱  \\lambda_{v_x}  + \\\n",
       "\n",
       "                                                                              \n",
       "             2                                                                \n",
       "\\lambda_{v_z} ⋅u                          2                                   \n",
       "─────────────────────────────── - \\alpha⋅u  + \\alpha⋅u + \\lambdaₓ⋅vₓ + \\lambda\n",
       "_______________________________                                               \n",
       "            2                2                                                \n",
       "lambda_{v_y}  + \\lambda_{v_z}                                                 \n",
       "\n",
       "                                                                             \n",
       "                                                   3                         \n",
       "                         4⋅π⋅\\lambda_{v_z}⋅\\rho⋅g⋅r                         2\n",
       "_y⋅v_y + \\lambda_z⋅v_z + ─────────────────────────── - \\lambda_{v_z}⋅g⋅m + u \n",
       "                                      3                                      \n",
       "                                                                             \n",
       "                                                                             "
      ]
     },
     "execution_count": 16,
     "metadata": {},
     "output_type": "execute_result"
    }
   ],
   "source": [
    "# substitute optimal thrust\n",
    "at = thrust*u*i/mass\n",
    "dv = ag + ad + ab + at\n",
    "ds = Matrix([dr, dv])\n",
    "H = l.dot(ds) + L\n",
    "dl = Matrix([H.diff(dim) for dim in s])\n",
    "dfs = Matrix([ds, dl])\n",
    "\n",
    "expand(H)"
   ]
  },
  {
   "cell_type": "code",
   "execution_count": 17,
   "metadata": {},
   "outputs": [
    {
     "data": {
      "image/png": "[encoded data removed]",
      "text/latex": [
       "$$- \\frac{T_{max} \\lambda_{v_x}^{2} u}{m \\sqrt{\\lambda_{v_x}^{2} + \\lambda_{v_y}^{2} + \\lambda_{v_z}^{2}}} - \\frac{T_{max} \\lambda_{v_y}^{2} u}{m \\sqrt{\\lambda_{v_x}^{2} + \\lambda_{v_y}^{2} + \\lambda_{v_z}^{2}}} - \\frac{T_{max} \\lambda_{v_z}^{2} u}{m \\sqrt{\\lambda_{v_x}^{2} + \\lambda_{v_y}^{2} + \\lambda_{v_z}^{2}}} + \\alpha u + u^{2} \\left(- \\alpha + 1\\right)$$"
      ],
      "text/plain": [
       "                                       2                                      \n",
       "                  T_{max}⋅\\lambda_{v_x} ⋅u                                  T_\n",
       "- ─────────────────────────────────────────────────────── - ──────────────────\n",
       "       __________________________________________________        _____________\n",
       "      ╱              2                2                2        ╱             \n",
       "  m⋅╲╱  \\lambda_{v_x}  + \\lambda_{v_y}  + \\lambda_{v_z}     m⋅╲╱  \\lambda_{v_x\n",
       "\n",
       "                   2                                                         2\n",
       "{max}⋅\\lambda_{v_y} ⋅u                                  T_{max}⋅\\lambda_{v_z} \n",
       "───────────────────────────────────── - ──────────────────────────────────────\n",
       "_____________________________________        _________________________________\n",
       " 2                2                2        ╱              2                2 \n",
       "}  + \\lambda_{v_y}  + \\lambda_{v_z}     m⋅╲╱  \\lambda_{v_x}  + \\lambda_{v_y}  \n",
       "\n",
       "                                               \n",
       "⋅u                              2              \n",
       "───────────────── + \\alpha⋅u + u ⋅(-\\alpha + 1)\n",
       "_________________                              \n",
       "               2                               \n",
       "+ \\lambda_{v_z}                                "
      ]
     },
     "execution_count": 17,
     "metadata": {},
     "output_type": "execute_result"
    }
   ],
   "source": [
    "# Hamiltonian terms dependant on thrust magnitude\n",
    "Hu = (-thrust/mass/lvmag*u*lv).dot(lv) + L\n",
    "Hu"
   ]
  },
  {
   "cell_type": "code",
   "execution_count": 18,
   "metadata": {},
   "outputs": [
    {
     "data": {
      "image/png": "[encoded data removed]",
      "text/latex": [
       "$$\\frac{- T_{max} \\lambda_{v_x}^{2} - T_{max} \\lambda_{v_y}^{2} - T_{max} \\lambda_{v_z}^{2} + \\alpha m \\sqrt{\\lambda_{v_x}^{2} + \\lambda_{v_y}^{2} + \\lambda_{v_z}^{2}}}{2 m \\left(\\alpha - 1\\right) \\sqrt{\\lambda_{v_x}^{2} + \\lambda_{v_y}^{2} + \\lambda_{v_z}^{2}}}$$"
      ],
      "text/plain": [
       "                                                                              \n",
       "                       2                        2                        2    \n",
       "- T_{max}⋅\\lambda_{v_x}  - T_{max}⋅\\lambda_{v_y}  - T_{max}⋅\\lambda_{v_z}  + \\\n",
       "──────────────────────────────────────────────────────────────────────────────\n",
       "                                                       _______________________\n",
       "                                                      ╱              2        \n",
       "                                   2⋅m⋅(\\alpha - 1)⋅╲╱  \\lambda_{v_x}  + \\lamb\n",
       "\n",
       "           __________________________________________________\n",
       "          ╱              2                2                2 \n",
       "alpha⋅m⋅╲╱  \\lambda_{v_x}  + \\lambda_{v_y}  + \\lambda_{v_z}  \n",
       "─────────────────────────────────────────────────────────────\n",
       "___________________________                                  \n",
       "        2                2                                   \n",
       "da_{v_y}  + \\lambda_{v_z}                                    "
      ]
     },
     "execution_count": 18,
     "metadata": {},
     "output_type": "execute_result"
    }
   ],
   "source": [
    "ustar = solve(Hu.diff(u), u)[0]\n",
    "simplify(ustar)"
   ]
  },
  {
   "cell_type": "code",
   "execution_count": 19,
   "metadata": {},
   "outputs": [
    {
     "data": {
      "text/latex": [
       "$$\\left[\\begin{matrix}v_{x}\\\\v_{y}\\\\v_{z}\\\\- \\frac{\\pi C_{D}}{2} \\rho r^{2} v_{x} \\sqrt{v_{x}^{2} + v_{y}^{2} + v_{z}^{2}} - \\frac{T_{max} \\lambda_{v_x} u^{*}}{m \\sqrt{\\lambda_{v_x}^{2} + \\lambda_{v_y}^{2} + \\lambda_{v_z}^{2}}}\\\\- \\frac{\\pi C_{D}}{2} \\rho r^{2} v_{y} \\sqrt{v_{x}^{2} + v_{y}^{2} + v_{z}^{2}} - \\frac{T_{max} \\lambda_{v_y} u^{*}}{m \\sqrt{\\lambda_{v_x}^{2} + \\lambda_{v_y}^{2} + \\lambda_{v_z}^{2}}}\\\\- \\frac{\\pi C_{D}}{2} \\rho r^{2} v_{z} \\sqrt{v_{x}^{2} + v_{y}^{2} + v_{z}^{2}} - \\frac{T_{max} \\lambda_{v_z} u^{*}}{m \\sqrt{\\lambda_{v_x}^{2} + \\lambda_{v_y}^{2} + \\lambda_{v_z}^{2}}} + \\frac{4 \\pi}{3} \\rho g r^{3} - g m\\\\0\\\\0\\\\0\\\\- \\frac{\\pi C_{D} \\lambda_{v_y} \\rho r^{2} v_{x} v_{y}}{2 \\sqrt{v_{x}^{2} + v_{y}^{2} + v_{z}^{2}}} - \\frac{\\pi C_{D} \\lambda_{v_z} \\rho r^{2} v_{x} v_{z}}{2 \\sqrt{v_{x}^{2} + v_{y}^{2} + v_{z}^{2}}} + \\lambda_x + \\lambda_{v_x} \\left(- \\frac{\\pi C_{D} \\rho r^{2} v_{x}^{2}}{2 \\sqrt{v_{x}^{2} + v_{y}^{2} + v_{z}^{2}}} - \\frac{\\pi C_{D}}{2} \\rho r^{2} \\sqrt{v_{x}^{2} + v_{y}^{2} + v_{z}^{2}}\\right)\\\\- \\frac{\\pi C_{D} \\lambda_{v_x} \\rho r^{2} v_{x} v_{y}}{2 \\sqrt{v_{x}^{2} + v_{y}^{2} + v_{z}^{2}}} - \\frac{\\pi C_{D} \\lambda_{v_z} \\rho r^{2} v_{y} v_{z}}{2 \\sqrt{v_{x}^{2} + v_{y}^{2} + v_{z}^{2}}} + \\lambda_y + \\lambda_{v_y} \\left(- \\frac{\\pi C_{D} \\rho r^{2} v_{y}^{2}}{2 \\sqrt{v_{x}^{2} + v_{y}^{2} + v_{z}^{2}}} - \\frac{\\pi C_{D}}{2} \\rho r^{2} \\sqrt{v_{x}^{2} + v_{y}^{2} + v_{z}^{2}}\\right)\\\\- \\frac{\\pi C_{D} \\lambda_{v_x} \\rho r^{2} v_{x} v_{z}}{2 \\sqrt{v_{x}^{2} + v_{y}^{2} + v_{z}^{2}}} - \\frac{\\pi C_{D} \\lambda_{v_y} \\rho r^{2} v_{y} v_{z}}{2 \\sqrt{v_{x}^{2} + v_{y}^{2} + v_{z}^{2}}} + \\lambda_z + \\lambda_{v_z} \\left(- \\frac{\\pi C_{D} \\rho r^{2} v_{z}^{2}}{2 \\sqrt{v_{x}^{2} + v_{y}^{2} + v_{z}^{2}}} - \\frac{\\pi C_{D}}{2} \\rho r^{2} \\sqrt{v_{x}^{2} + v_{y}^{2} + v_{z}^{2}}\\right)\\end{matrix}\\right]$$"
      ],
      "text/plain": [
       "⎡                                                                             \n",
       "⎢                                                                             \n",
       "⎢                                                                             \n",
       "⎢                                                                             \n",
       "⎢                                                                             \n",
       "⎢                                                                             \n",
       "⎢                                                         ___________________ \n",
       "⎢                                                 2      ╱   2      2      2  \n",
       "⎢                                     π⋅C_D⋅\\rho⋅r ⋅vₓ⋅╲╱  vₓ  + v_y  + v_z   \n",
       "⎢                                   - ─────────────────────────────────────── \n",
       "⎢                                                        2                    \n",
       "⎢                                                                             \n",
       "⎢                                                                             \n",
       "⎢                                                                             \n",
       "⎢                                                          ___________________\n",
       "⎢                                                 2       ╱   2      2      2 \n",
       "⎢                                     π⋅C_D⋅\\rho⋅r ⋅v_y⋅╲╱  vₓ  + v_y  + v_z  \n",
       "⎢                                   - ────────────────────────────────────────\n",
       "⎢                                                        2                    \n",
       "⎢                                                                             \n",
       "⎢                                                                             \n",
       "⎢                                                                             \n",
       "⎢                                               ___________________           \n",
       "⎢                                      2       ╱   2      2      2            \n",
       "⎢                          π⋅C_D⋅\\rho⋅r ⋅v_z⋅╲╱  vₓ  + v_y  + v_z             \n",
       "⎢                        - ──────────────────────────────────────── - ────────\n",
       "⎢                                             2                            ___\n",
       "⎢                                                                         ╱   \n",
       "⎢                                                                     m⋅╲╱  \\l\n",
       "⎢                                                                             \n",
       "⎢                                                                             \n",
       "⎢                                                                             \n",
       "⎢                                                                             \n",
       "⎢                                                                             \n",
       "⎢                                                                             \n",
       "⎢                                                                             \n",
       "⎢                                                                             \n",
       "⎢                             2                                    2          \n",
       "⎢   π⋅C_D⋅\\lambda_{v_y}⋅\\rho⋅r ⋅vₓ⋅v_y   π⋅C_D⋅\\lambda_{v_z}⋅\\rho⋅r ⋅vₓ⋅v_z   \n",
       "⎢ - ────────────────────────────────── - ────────────────────────────────── + \n",
       "⎢             ___________________                  ___________________        \n",
       "⎢            ╱   2      2      2                  ╱   2      2      2         \n",
       "⎢        2⋅╲╱  vₓ  + v_y  + v_z               2⋅╲╱  vₓ  + v_y  + v_z          \n",
       "⎢                                                                             \n",
       "⎢                                                                             \n",
       "⎢                            2                                    2           \n",
       "⎢  π⋅C_D⋅\\lambda_{v_x}⋅\\rho⋅r ⋅vₓ⋅v_y   π⋅C_D⋅\\lambda_{v_z}⋅\\rho⋅r ⋅v_y⋅v_z   \n",
       "⎢- ────────────────────────────────── - ─────────────────────────────────── + \n",
       "⎢            ___________________                   ___________________        \n",
       "⎢           ╱   2      2      2                   ╱   2      2      2         \n",
       "⎢       2⋅╲╱  vₓ  + v_y  + v_z                2⋅╲╱  vₓ  + v_y  + v_z          \n",
       "⎢                                                                             \n",
       "⎢                                                                             \n",
       "⎢                            2                                    2           \n",
       "⎢  π⋅C_D⋅\\lambda_{v_x}⋅\\rho⋅r ⋅vₓ⋅v_z   π⋅C_D⋅\\lambda_{v_y}⋅\\rho⋅r ⋅v_y⋅v_z   \n",
       "⎢- ────────────────────────────────── - ─────────────────────────────────── + \n",
       "⎢            ___________________                   ___________________        \n",
       "⎢           ╱   2      2      2                   ╱   2      2      2         \n",
       "⎣       2⋅╲╱  vₓ  + v_y  + v_z                2⋅╲╱  vₓ  + v_y  + v_z          \n",
       "\n",
       "       vₓ                                                                     \n",
       "                                                                              \n",
       "      v_y                                                                     \n",
       "                                                                              \n",
       "      v_z                                                                     \n",
       "                                                                              \n",
       "                                                                              \n",
       "                                                                              \n",
       "                 T_{max}⋅\\lambda_{v_x}⋅u__*                                   \n",
       "- ───────────────────────────────────────────────────────                     \n",
       "       __________________________________________________                     \n",
       "      ╱              2                2                2                      \n",
       "  m⋅╲╱  \\lambda_{v_x}  + \\lambda_{v_y}  + \\lambda_{v_z}                       \n",
       "                                                                              \n",
       "                                                                              \n",
       "                                                                              \n",
       "                  T_{max}⋅\\lambda_{v_y}⋅u__*                                  \n",
       " - ───────────────────────────────────────────────────────                    \n",
       "        __________________________________________________                    \n",
       "       ╱              2                2                2                     \n",
       "   m⋅╲╱  \\lambda_{v_x}  + \\lambda_{v_y}  + \\lambda_{v_z}                      \n",
       "                                                                              \n",
       "                                                                              \n",
       "                                                              3               \n",
       "       T_{max}⋅\\lambda_{v_z}⋅u__*                 4⋅π⋅\\rho⋅g⋅r                \n",
       "─────────────────────────────────────────────── + ───────────── - g⋅m         \n",
       "_______________________________________________         3                     \n",
       "           2                2                2                                \n",
       "ambda_{v_x}  + \\lambda_{v_y}  + \\lambda_{v_z}                                 \n",
       "                                                                              \n",
       "       0                                                                      \n",
       "                                                                              \n",
       "       0                                                                      \n",
       "                                                                              \n",
       "       0                                                                      \n",
       "                                                                              \n",
       "                         ⎛                                              ______\n",
       "                         ⎜                 2   2                   2   ╱   2  \n",
       "                         ⎜     π⋅C_D⋅\\rho⋅r ⋅vₓ        π⋅C_D⋅\\rho⋅r ⋅╲╱  vₓ  +\n",
       "\\lambdaₓ + \\lambda_{v_x}⋅⎜- ──────────────────────── - ───────────────────────\n",
       "                         ⎜       ___________________                    2     \n",
       "                         ⎜      ╱   2      2      2                           \n",
       "                         ⎝  2⋅╲╱  vₓ  + v_y  + v_z                            \n",
       "                                                                              \n",
       "                          ⎛                                              _____\n",
       "                          ⎜                 2    2                  2   ╱   2 \n",
       "                          ⎜     π⋅C_D⋅\\rho⋅r ⋅v_y       π⋅C_D⋅\\rho⋅r ⋅╲╱  vₓ  \n",
       "\\lambda_y + \\lambda_{v_y}⋅⎜- ──────────────────────── - ──────────────────────\n",
       "                          ⎜       ___________________                    2    \n",
       "                          ⎜      ╱   2      2      2                          \n",
       "                          ⎝  2⋅╲╱  vₓ  + v_y  + v_z                           \n",
       "                                                                              \n",
       "                          ⎛                                              _____\n",
       "                          ⎜                 2    2                  2   ╱   2 \n",
       "                          ⎜     π⋅C_D⋅\\rho⋅r ⋅v_z       π⋅C_D⋅\\rho⋅r ⋅╲╱  vₓ  \n",
       "\\lambda_z + \\lambda_{v_z}⋅⎜- ──────────────────────── - ──────────────────────\n",
       "                          ⎜       ___________________                    2    \n",
       "                          ⎜      ╱   2      2      2                          \n",
       "                          ⎝  2⋅╲╱  vₓ  + v_y  + v_z                           \n",
       "\n",
       "               ⎤\n",
       "               ⎥\n",
       "               ⎥\n",
       "               ⎥\n",
       "               ⎥\n",
       "               ⎥\n",
       "               ⎥\n",
       "               ⎥\n",
       "               ⎥\n",
       "               ⎥\n",
       "               ⎥\n",
       "               ⎥\n",
       "               ⎥\n",
       "               ⎥\n",
       "               ⎥\n",
       "               ⎥\n",
       "               ⎥\n",
       "               ⎥\n",
       "               ⎥\n",
       "               ⎥\n",
       "               ⎥\n",
       "               ⎥\n",
       "               ⎥\n",
       "               ⎥\n",
       "               ⎥\n",
       "               ⎥\n",
       "               ⎥\n",
       "               ⎥\n",
       "               ⎥\n",
       "               ⎥\n",
       "               ⎥\n",
       "               ⎥\n",
       "               ⎥\n",
       "               ⎥\n",
       "               ⎥\n",
       "               ⎥\n",
       "_____________⎞ ⎥\n",
       "    2      2 ⎟ ⎥\n",
       " v_y  + v_z  ⎟ ⎥\n",
       "─────────────⎟ ⎥\n",
       "             ⎟ ⎥\n",
       "             ⎟ ⎥\n",
       "             ⎠ ⎥\n",
       "               ⎥\n",
       "______________⎞⎥\n",
       "     2      2 ⎟⎥\n",
       "+ v_y  + v_z  ⎟⎥\n",
       "──────────────⎟⎥\n",
       "              ⎟⎥\n",
       "              ⎟⎥\n",
       "              ⎠⎥\n",
       "               ⎥\n",
       "______________⎞⎥\n",
       "     2      2 ⎟⎥\n",
       "+ v_y  + v_z  ⎟⎥\n",
       "──────────────⎟⎥\n",
       "              ⎟⎥\n",
       "              ⎟⎥\n",
       "              ⎠⎦"
      ]
     },
     "execution_count": 19,
     "metadata": {},
     "output_type": "execute_result"
    }
   ],
   "source": [
    "dfs = dfs.subs(u, symbols(\"u^*\"))\n",
    "dfs"
   ]
  },
  {
   "cell_type": "code",
   "execution_count": 29,
   "metadata": {},
   "outputs": [
    {
     "data": {
      "text/latex": [
       "$$\\left[\\begin{matrix}- \\frac{T_{max} \\lambda_{v_x} u}{m \\sqrt{\\lambda_{v_x}^{2} + \\lambda_{v_y}^{2} + \\lambda_{v_z}^{2}}}\\\\- \\frac{T_{max} \\lambda_{v_y} u}{m \\sqrt{\\lambda_{v_x}^{2} + \\lambda_{v_y}^{2} + \\lambda_{v_z}^{2}}}\\\\- \\frac{T_{max} \\lambda_{v_z} u}{m \\sqrt{\\lambda_{v_x}^{2} + \\lambda_{v_y}^{2} + \\lambda_{v_z}^{2}}}\\end{matrix}\\right]$$"
      ],
      "text/plain": [
       "⎡               -T_{max}⋅\\lambda_{v_x}⋅u                ⎤\n",
       "⎢───────────────────────────────────────────────────────⎥\n",
       "⎢     __________________________________________________⎥\n",
       "⎢    ╱              2                2                2 ⎥\n",
       "⎢m⋅╲╱  \\lambda_{v_x}  + \\lambda_{v_y}  + \\lambda_{v_z}  ⎥\n",
       "⎢                                                       ⎥\n",
       "⎢               -T_{max}⋅\\lambda_{v_y}⋅u                ⎥\n",
       "⎢───────────────────────────────────────────────────────⎥\n",
       "⎢     __________________________________________________⎥\n",
       "⎢    ╱              2                2                2 ⎥\n",
       "⎢m⋅╲╱  \\lambda_{v_x}  + \\lambda_{v_y}  + \\lambda_{v_z}  ⎥\n",
       "⎢                                                       ⎥\n",
       "⎢               -T_{max}⋅\\lambda_{v_z}⋅u                ⎥\n",
       "⎢───────────────────────────────────────────────────────⎥\n",
       "⎢     __________________________________________________⎥\n",
       "⎢    ╱              2                2                2 ⎥\n",
       "⎣m⋅╲╱  \\lambda_{v_x}  + \\lambda_{v_y}  + \\lambda_{v_z}  ⎦"
      ]
     },
     "execution_count": 29,
     "metadata": {},
     "output_type": "execute_result"
    }
   ],
   "source": [
    "simplify(at)"
   ]
  },
  {
   "cell_type": "code",
   "execution_count": 20,
   "metadata": {
    "collapsed": true
   },
   "outputs": [],
   "source": [
    "# save\n",
    "f = open(\"auv.tex\", \"w\")\n",
    "f.write(latex(ds))\n",
    "f.close()"
   ]
  }
 ],
 "metadata": {
  "kernelspec": {
   "display_name": "Python 3",
   "language": "python",
   "name": "python3"
  },
  "language_info": {
   "codemirror_mode": {
    "name": "ipython",
    "version": 3
   },
   "file_extension": ".py",
   "mimetype": "text/x-python",
   "name": "python",
   "nbconvert_exporter": "python",
   "pygments_lexer": "ipython3",
   "version": "3.6.4"
  }
 },
 "nbformat": 4,
 "nbformat_minor": 2
}
