{
 "cells": [
  {
   "cell_type": "code",
   "execution_count": 1,
   "metadata": {
    "collapsed": true
   },
   "outputs": [],
   "source": [
    "from sympy import *\n",
    "init_printing()"
   ]
  },
  {
   "cell_type": "code",
   "execution_count": 2,
   "metadata": {},
   "outputs": [
    {
     "data": {
      "image/png": "[encoded data removed]",
      "text/latex": [
       "$$\\left[\\begin{matrix}x & y & z & v_{x} & v_{y} & v_{z} & q_{r} & q_{x} & q_{y} & q_{z}\\end{matrix}\\right]$$"
      ],
      "text/plain": [
       "[x  y  z  vₓ  v_y  v_z  qᵣ  qₓ  q_y  q_z]"
      ]
     },
     "execution_count": 2,
     "metadata": {},
     "output_type": "execute_result"
    }
   ],
   "source": [
    "# state\n",
    "x, y, z, vx, vy, vz, qr, qx, qy, qz, wx, wy, wz = symbols('x y z v_x v_y v_z q_r q_x q_y q_z \\\\omega_x \\\\omega_y \\\\omega_z')\n",
    "p                      = Matrix([x, y, z])\n",
    "v                      = Matrix([vx, vy, vz])\n",
    "q                      = Matrix([qr, qx, qy, qz])\n",
    "s                      = Matrix([p, v, q])\n",
    "s.T"
   ]
  },
  {
   "cell_type": "code",
   "execution_count": 3,
   "metadata": {},
   "outputs": [
    {
     "data": {
      "image/png": "[encoded data removed]",
      "text/latex": [
       "$$\\left[\\begin{matrix}\\lambda_x & \\lambda_y & \\lambda_z & \\lambda_{v_x} & \\lambda_{v_y} & \\lambda_{v_z} & \\lambda_{q_r} & \\lambda_{q_x} & \\lambda_{q_y} & \\lambda_{q_z}\\end{matrix}\\right]$$"
      ],
      "text/plain": [
       "[\\lambdaₓ  \\lambda_y  \\lambda_z  \\lambda_{v_x}  \\lambda_{v_y}  \\lambda_{v_z}  \n",
       "\\lambda_{q_r}  \\lambda_{q_x}  \\lambda_{q_y}  \\lambda_{q_z}]"
      ]
     },
     "execution_count": 3,
     "metadata": {},
     "output_type": "execute_result"
    }
   ],
   "source": [
    "# translational costate\n",
    "lx, ly, lz, lvx, lvy, lvz = symbols('\\\\lambda_x \\\\lambda_y \\\\lambda_z \\\\lambda_{v_x} \\\\lambda_{v_y} \\\\lambda_{v_z}', real=True)\n",
    "\n",
    "# quaternion costate\n",
    "lqr, lqx, lqy, lqz= symbols(\"\\\\lambda_{q_r} \\\\lambda_{q_x} \\\\lambda_{q_y} \\\\lambda_{q_z}\")\n",
    "\n",
    "# full costate\n",
    "lp                            = Matrix([lx, ly, lz])\n",
    "lv                            = Matrix([lvx, lvy, lvz])\n",
    "lq                            = Matrix([lqr, lqx, lqy, lqz])\n",
    "l                             = Matrix([lp, lv, lq])\n",
    "l.T"
   ]
  },
  {
   "cell_type": "code",
   "execution_count": 4,
   "metadata": {},
   "outputs": [
    {
     "data": {
      "image/png": "[encoded data removed]",
      "text/latex": [
       "$$\\left[\\begin{matrix}u_{t} & u_{b} & u_{x} & u_{y}\\end{matrix}\\right]$$"
      ],
      "text/plain": [
       "[uₜ  u_b  uₓ  u_y]"
      ]
     },
     "execution_count": 4,
     "metadata": {},
     "output_type": "execute_result"
    }
   ],
   "source": [
    "# controls: throttle, reaction wheels, ballast\n",
    "ut, ub, ux, uy, uz = symbols(\"u_t u_b u_x u_y u_z\", real=True)\n",
    "urot = Matrix([ux, uy, uz])\n",
    "actions = Matrix([ut, ub, ux, uy])\n",
    "actions.T"
   ]
  },
  {
   "cell_type": "code",
   "execution_count": 5,
   "metadata": {
    "collapsed": true
   },
   "outputs": [],
   "source": [
    "# physical parametres\n",
    "mass, gravity, density, CD, planaform, volume, thrust, rotation = symbols(\"m g \\\\rho C_D A V T_{max} \\\\omega_{max}\")\n",
    "\n",
    "# current velocity\n",
    "vfx, vfy, vfz = symbols(\"v_{x_f} v_{y_f} v_{z_f}\")\n",
    "vf = Matrix([vfx, vfy, vfz])\n",
    "\n",
    "# optimisation parametres\n",
    "alpha = symbols(\"\\\\alpha\")"
   ]
  },
  {
   "cell_type": "code",
   "execution_count": 6,
   "metadata": {},
   "outputs": [],
   "source": [
    "# gravity\n",
    "g = Matrix([0, 0, -gravity])\n",
    "\n",
    "# free stream velocity\n",
    "vinf = v - vf\n",
    "\n",
    "# velocity magnitude\n",
    "vmag = sqrt(vinf[0]**2 + vinf[1]**2 + vinf[2]**2)\n",
    "\n",
    "# velocity direction\n",
    "vhat = vinf/vmag\n",
    "\n",
    "# gravity\n",
    "Fg = mass*g\n",
    "\n",
    "# fluid drag\n",
    "Fd = - Rational(1,2)*density*vmag*vhat*CD*planaform\n",
    "\n",
    "# buoyancy\n",
    "Fb = -density*volume*g*ub\n",
    "\n",
    "# thrust direction\n",
    "ix = 2*(qx*qz - qy*qr)\n",
    "iy = 2*(qy*qz - qx*qr)\n",
    "iz = 1 - 2*(qx**2 + qy**2)\n",
    "i  = Matrix([ix, iy, iz])\n",
    "\n",
    "# thrust\n",
    "Ft = thrust*ut*i"
   ]
  },
  {
   "cell_type": "code",
   "execution_count": 7,
   "metadata": {},
   "outputs": [
    {
     "data": {
      "image/png": "[encoded data removed]",
      "text/latex": [
       "$$\\left[\\begin{matrix}v_{x}\\\\v_{y}\\\\v_{z}\\\\\\frac{1}{m} \\left(- \\frac{A C_{D}}{2} \\rho \\left(v_{x} - v_{x_f}\\right) + T_{max} u_{t} \\left(- 2 q_{r} q_{y} + 2 q_{x} q_{z}\\right)\\right)\\\\\\frac{1}{m} \\left(- \\frac{A C_{D}}{2} \\rho \\left(v_{y} - v_{y_f}\\right) + T_{max} u_{t} \\left(- 2 q_{r} q_{x} + 2 q_{y} q_{z}\\right)\\right)\\\\\\frac{1}{m} \\left(- \\frac{A C_{D}}{2} \\rho \\left(v_{z} - v_{z_f}\\right) + T_{max} u_{t} \\left(- 2 q_{x}^{2} - 2 q_{y}^{2} + 1\\right) + V \\rho g u_{b} - g m\\right)\\\\- \\frac{\\omega_{max} q_{y}}{2} u_{y} + \\frac{\\omega_{max} q_{z}}{2} u_{x}\\\\\\frac{\\omega_{max} q_{y}}{2} u_{x} + \\frac{\\omega_{max} q_{z}}{2} u_{y}\\\\\\frac{\\omega_{max} q_{r}}{2} u_{y} - \\frac{\\omega_{max} q_{x}}{2} u_{x}\\\\- \\frac{\\omega_{max} q_{r}}{2} u_{x} - \\frac{\\omega_{max} q_{x}}{2} u_{y}\\end{matrix}\\right]$$"
      ],
      "text/plain": [
       "⎡                                         vₓ                                  \n",
       "⎢                                                                             \n",
       "⎢                                         v_y                                 \n",
       "⎢                                                                             \n",
       "⎢                                         v_z                                 \n",
       "⎢                                                                             \n",
       "⎢             A⋅C_D⋅\\rho⋅(vₓ - v_{x_f})                                       \n",
       "⎢           - ───────────────────────── + T_{max}⋅uₜ⋅(-2⋅qᵣ⋅q_y + 2⋅qₓ⋅q_z)   \n",
       "⎢                         2                                                   \n",
       "⎢           ───────────────────────────────────────────────────────────────   \n",
       "⎢                                          m                                  \n",
       "⎢                                                                             \n",
       "⎢            A⋅C_D⋅\\rho⋅(v_y - v_{y_f})                                       \n",
       "⎢          - ────────────────────────── + T_{max}⋅uₜ⋅(-2⋅qᵣ⋅qₓ + 2⋅q_y⋅q_z)   \n",
       "⎢                        2                                                    \n",
       "⎢          ────────────────────────────────────────────────────────────────   \n",
       "⎢                                         m                                   \n",
       "⎢                                                                             \n",
       "⎢  A⋅C_D⋅\\rho⋅(v_z - v_{z_f})              ⎛      2        2    ⎞             \n",
       "⎢- ────────────────────────── + T_{max}⋅uₜ⋅⎝- 2⋅qₓ  - 2⋅q_y  + 1⎠ + V⋅\\rho⋅g⋅u\n",
       "⎢              2                                                              \n",
       "⎢─────────────────────────────────────────────────────────────────────────────\n",
       "⎢                                          m                                  \n",
       "⎢                                                                             \n",
       "⎢                      \\omega_{max}⋅q_y⋅u_y   \\omega_{max}⋅q_z⋅uₓ             \n",
       "⎢                    - ──────────────────── + ───────────────────             \n",
       "⎢                               2                      2                      \n",
       "⎢                                                                             \n",
       "⎢                     \\omega_{max}⋅q_y⋅uₓ   \\omega_{max}⋅q_z⋅u_y              \n",
       "⎢                     ─────────────────── + ────────────────────              \n",
       "⎢                              2                     2                        \n",
       "⎢                                                                             \n",
       "⎢                      \\omega_{max}⋅qᵣ⋅u_y   \\omega_{max}⋅qₓ⋅uₓ               \n",
       "⎢                      ─────────────────── - ──────────────────               \n",
       "⎢                               2                    2                        \n",
       "⎢                                                                             \n",
       "⎢                       \\omega_{max}⋅qᵣ⋅uₓ   \\omega_{max}⋅qₓ⋅u_y              \n",
       "⎢                     - ────────────────── - ───────────────────              \n",
       "⎣                               2                     2                       \n",
       "\n",
       "        ⎤\n",
       "        ⎥\n",
       "        ⎥\n",
       "        ⎥\n",
       "        ⎥\n",
       "        ⎥\n",
       "        ⎥\n",
       "        ⎥\n",
       "        ⎥\n",
       "        ⎥\n",
       "        ⎥\n",
       "        ⎥\n",
       "        ⎥\n",
       "        ⎥\n",
       "        ⎥\n",
       "        ⎥\n",
       "        ⎥\n",
       "        ⎥\n",
       "        ⎥\n",
       "_b - g⋅m⎥\n",
       "        ⎥\n",
       "────────⎥\n",
       "        ⎥\n",
       "        ⎥\n",
       "        ⎥\n",
       "        ⎥\n",
       "        ⎥\n",
       "        ⎥\n",
       "        ⎥\n",
       "        ⎥\n",
       "        ⎥\n",
       "        ⎥\n",
       "        ⎥\n",
       "        ⎥\n",
       "        ⎥\n",
       "        ⎥\n",
       "        ⎥\n",
       "        ⎥\n",
       "        ⎦"
      ]
     },
     "execution_count": 7,
     "metadata": {},
     "output_type": "execute_result"
    }
   ],
   "source": [
    "# translation\n",
    "dp = v\n",
    "dv = (Fg + Fd + Fb + Ft)/mass\n",
    "\n",
    "# rotation\n",
    "dq = rotation*Rational(1,2) * Matrix([\n",
    "    [0, 0, -uy, ux],\n",
    "    [0, 0, ux, uy],\n",
    "    [uy, -ux, 0, 0],\n",
    "    [-ux, -uy, 0, 0]\n",
    "]) * q\n",
    "\n",
    "# state transition\n",
    "ds = Matrix([dp, dv, dq])\n",
    "ds"
   ]
  },
  {
   "cell_type": "code",
   "execution_count": 8,
   "metadata": {},
   "outputs": [
    {
     "data": {
      "image/png": "[encoded data removed]",
      "text/latex": [
       "$$\\alpha \\left(u_{b} + u_{t} + u_{x} + u_{y}\\right) + \\left(- \\alpha + 1\\right) \\left(u_{b}^{2} + u_{t}^{2} + u_{x}^{2} + u_{y}^{2}\\right)$$"
      ],
      "text/plain": [
       "                                             ⎛   2     2     2      2⎞\n",
       "\\alpha⋅(u_b + uₜ + uₓ + u_y) + (-\\alpha + 1)⋅⎝u_b  + uₜ  + uₓ  + u_y ⎠"
      ]
     },
     "execution_count": 8,
     "metadata": {},
     "output_type": "execute_result"
    }
   ],
   "source": [
    "# Lagrangian\n",
    "L = (1-alpha)*(ut**2 + ub**2 + ux**2 + uy**2) + alpha*(ut + ub + ux + uy)\n",
    "L"
   ]
  },
  {
   "cell_type": "code",
   "execution_count": 9,
   "metadata": {},
   "outputs": [
    {
     "data": {
      "image/png": "[encoded data removed]",
      "text/latex": [
       "$$\\alpha \\left(u_{b} + u_{t} + u_{x} + u_{y}\\right) + \\lambda_x v_{x} + \\lambda_y v_{y} + \\lambda_z v_{z} + \\lambda_{q_r} \\left(- \\frac{\\omega_{max} q_{y}}{2} u_{y} + \\frac{\\omega_{max} q_{z}}{2} u_{x}\\right) + \\lambda_{q_x} \\left(\\frac{\\omega_{max} q_{y}}{2} u_{x} + \\frac{\\omega_{max} q_{z}}{2} u_{y}\\right) + \\lambda_{q_y} \\left(\\frac{\\omega_{max} q_{r}}{2} u_{y} - \\frac{\\omega_{max} q_{x}}{2} u_{x}\\right) + \\lambda_{q_z} \\left(- \\frac{\\omega_{max} q_{r}}{2} u_{x} - \\frac{\\omega_{max} q_{x}}{2} u_{y}\\right) + \\frac{\\lambda_{v_x}}{m} \\left(- \\frac{A C_{D}}{2} \\rho \\left(v_{x} - v_{x_f}\\right) + T_{max} u_{t} \\left(- 2 q_{r} q_{y} + 2 q_{x} q_{z}\\right)\\right) + \\frac{\\lambda_{v_y}}{m} \\left(- \\frac{A C_{D}}{2} \\rho \\left(v_{y} - v_{y_f}\\right) + T_{max} u_{t} \\left(- 2 q_{r} q_{x} + 2 q_{y} q_{z}\\right)\\right) + \\frac{\\lambda_{v_z}}{m} \\left(- \\frac{A C_{D}}{2} \\rho \\left(v_{z} - v_{z_f}\\right) + T_{max} u_{t} \\left(- 2 q_{x}^{2} - 2 q_{y}^{2} + 1\\right) + V \\rho g u_{b} - g m\\right) + \\left(- \\alpha + 1\\right) \\left(u_{b}^{2} + u_{t}^{2} + u_{x}^{2} + u_{y}^{2}\\right)$$"
      ],
      "text/plain": [
       "                                                                              \n",
       "                                                                              \n",
       "                                                                              \n",
       "\\alpha⋅(u_b + uₜ + uₓ + u_y) + \\lambdaₓ⋅vₓ + \\lambda_y⋅v_y + \\lambda_z⋅v_z + \\\n",
       "                                                                              \n",
       "\n",
       "                                                                              \n",
       "                                                                              \n",
       "             ⎛  \\omega_{max}⋅q_y⋅u_y   \\omega_{max}⋅q_z⋅uₓ⎞                 ⎛\\\n",
       "lambda_{q_r}⋅⎜- ──────────────────── + ───────────────────⎟ + \\lambda_{q_x}⋅⎜─\n",
       "             ⎝           2                      2         ⎠                 ⎝ \n",
       "\n",
       "                                                                              \n",
       "                                                                              \n",
       "omega_{max}⋅q_y⋅uₓ   \\omega_{max}⋅q_z⋅u_y⎞                 ⎛\\omega_{max}⋅qᵣ⋅u_\n",
       "────────────────── + ────────────────────⎟ + \\lambda_{q_y}⋅⎜──────────────────\n",
       "        2                     2          ⎠                 ⎝         2        \n",
       "\n",
       "                                                                              \n",
       "                                                                              \n",
       "y   \\omega_{max}⋅qₓ⋅uₓ⎞                 ⎛  \\omega_{max}⋅qᵣ⋅uₓ   \\omega_{max}⋅q\n",
       "─ - ──────────────────⎟ + \\lambda_{q_z}⋅⎜- ────────────────── - ──────────────\n",
       "            2         ⎠                 ⎝          2                     2    \n",
       "\n",
       "                       ⎛  A⋅C_D⋅\\rho⋅(vₓ - v_{x_f})                           \n",
       "         \\lambda_{v_x}⋅⎜- ───────────────────────── + T_{max}⋅uₜ⋅(-2⋅qᵣ⋅q_y + \n",
       "ₓ⋅u_y⎞                 ⎝              2                                       \n",
       "─────⎟ + ─────────────────────────────────────────────────────────────────────\n",
       "     ⎠                                          m                             \n",
       "\n",
       "         ⎞                 ⎛  A⋅C_D⋅\\rho⋅(v_y - v_{y_f})                      \n",
       "2⋅qₓ⋅q_z)⎟   \\lambda_{v_y}⋅⎜- ────────────────────────── + T_{max}⋅uₜ⋅(-2⋅qᵣ⋅q\n",
       "         ⎠                 ⎝              2                                   \n",
       "────────── + ─────────────────────────────────────────────────────────────────\n",
       "                                                    m                         \n",
       "\n",
       "              ⎞                 ⎛  A⋅C_D⋅\\rho⋅(v_z - v_{z_f})              ⎛  \n",
       "ₓ + 2⋅q_y⋅q_z)⎟   \\lambda_{v_z}⋅⎜- ────────────────────────── + T_{max}⋅uₜ⋅⎝- \n",
       "              ⎠                 ⎝              2                              \n",
       "─────────────── + ────────────────────────────────────────────────────────────\n",
       "                                                                    m         \n",
       "\n",
       "    2        2    ⎞                     ⎞                                     \n",
       "2⋅qₓ  - 2⋅q_y  + 1⎠ + V⋅\\rho⋅g⋅u_b - g⋅m⎟                                     \n",
       "                                        ⎠                 ⎛   2     2     2   \n",
       "───────────────────────────────────────── + (-\\alpha + 1)⋅⎝u_b  + uₜ  + uₓ  + \n",
       "                                                                              \n",
       "\n",
       "     \n",
       "     \n",
       "   2⎞\n",
       "u_y ⎠\n",
       "     "
      ]
     },
     "execution_count": 9,
     "metadata": {},
     "output_type": "execute_result"
    }
   ],
   "source": [
    "# Hamiltonian\n",
    "H = l.dot(ds) + L\n",
    "H"
   ]
  },
  {
   "cell_type": "code",
   "execution_count": 10,
   "metadata": {},
   "outputs": [
    {
     "data": {
      "image/png": "[encoded data removed]",
      "text/latex": [
       "$$\\left[\\begin{matrix}\\frac{1}{m \\left(\\alpha - 1\\right)} \\left(- T_{max} \\lambda_{v_x} q_{r} q_{y} + T_{max} \\lambda_{v_x} q_{x} q_{z} - T_{max} \\lambda_{v_y} q_{r} q_{x} + T_{max} \\lambda_{v_y} q_{y} q_{z} - T_{max} \\lambda_{v_z} q_{x}^{2} - T_{max} \\lambda_{v_z} q_{y}^{2} + \\frac{T_{max} \\lambda_{v_z}}{2} + \\frac{\\alpha m}{2}\\right)\\\\\\frac{V \\lambda_{v_z} \\rho g + \\alpha m}{2 m \\left(\\alpha - 1\\right)}\\\\\\frac{1}{4 \\left(\\alpha - 1\\right)} \\left(2 \\alpha + \\lambda_{q_r} \\omega_{max} q_{z} + \\lambda_{q_x} \\omega_{max} q_{y} - \\lambda_{q_y} \\omega_{max} q_{x} - \\lambda_{q_z} \\omega_{max} q_{r}\\right)\\\\\\frac{1}{4 \\left(\\alpha - 1\\right)} \\left(2 \\alpha - \\lambda_{q_r} \\omega_{max} q_{y} + \\lambda_{q_x} \\omega_{max} q_{z} + \\lambda_{q_y} \\omega_{max} q_{r} - \\lambda_{q_z} \\omega_{max} q_{x}\\right)\\end{matrix}\\right]$$"
      ],
      "text/plain": [
       "⎡                                                                             \n",
       "⎢-T_{max}⋅\\lambda_{v_x}⋅qᵣ⋅q_y + T_{max}⋅\\lambda_{v_x}⋅qₓ⋅q_z - T_{max}⋅\\lambd\n",
       "⎢                                                                             \n",
       "⎢─────────────────────────────────────────────────────────────────────────────\n",
       "⎢                                                                             \n",
       "⎢                                                                             \n",
       "⎢                                                                             \n",
       "⎢                                                                             \n",
       "⎢                                                                             \n",
       "⎢                                                                             \n",
       "⎢                                      2⋅\\alpha + \\lambda_{q_r}⋅\\omega_{max}⋅q\n",
       "⎢                                      ───────────────────────────────────────\n",
       "⎢                                                                             \n",
       "⎢                                                                             \n",
       "⎢                                      2⋅\\alpha - \\lambda_{q_r}⋅\\omega_{max}⋅q\n",
       "⎢                                      ───────────────────────────────────────\n",
       "⎣                                                                             \n",
       "\n",
       "                                                                        2     \n",
       "a_{v_y}⋅qᵣ⋅qₓ + T_{max}⋅\\lambda_{v_y}⋅q_y⋅q_z - T_{max}⋅\\lambda_{v_z}⋅qₓ  - T_\n",
       "                                                                              \n",
       "──────────────────────────────────────────────────────────────────────────────\n",
       "                       m⋅(\\alpha - 1)                                         \n",
       "                                                                              \n",
       "             V⋅\\lambda_{v_z}⋅\\rho⋅g + \\alpha⋅m                                \n",
       "             ─────────────────────────────────                                \n",
       "                      2⋅m⋅(\\alpha - 1)                                        \n",
       "                                                                              \n",
       "_z + \\lambda_{q_x}⋅\\omega_{max}⋅q_y - \\lambda_{q_y}⋅\\omega_{max}⋅qₓ - \\lambda_\n",
       "──────────────────────────────────────────────────────────────────────────────\n",
       "                       4⋅(\\alpha - 1)                                         \n",
       "                                                                              \n",
       "_y + \\lambda_{q_x}⋅\\omega_{max}⋅q_z + \\lambda_{q_y}⋅\\omega_{max}⋅qᵣ - \\lambda_\n",
       "──────────────────────────────────────────────────────────────────────────────\n",
       "                       4⋅(\\alpha - 1)                                         \n",
       "\n",
       "                       2   T_{max}⋅\\lambda_{v_z}   \\alpha⋅m⎤\n",
       "{max}⋅\\lambda_{v_z}⋅q_y  + ───────────────────── + ────────⎥\n",
       "                                     2                2    ⎥\n",
       "───────────────────────────────────────────────────────────⎥\n",
       "                                                           ⎥\n",
       "                                                           ⎥\n",
       "                                                           ⎥\n",
       "                                                           ⎥\n",
       "                                                           ⎥\n",
       "                                                           ⎥\n",
       "{q_z}⋅\\omega_{max}⋅qᵣ                                      ⎥\n",
       "─────────────────────                                      ⎥\n",
       "                                                           ⎥\n",
       "                                                           ⎥\n",
       "{q_z}⋅\\omega_{max}⋅qₓ                                      ⎥\n",
       "─────────────────────                                      ⎥\n",
       "                                                           ⎦"
      ]
     },
     "execution_count": 10,
     "metadata": {},
     "output_type": "execute_result"
    }
   ],
   "source": [
    "# Lagrangian gradient\n",
    "dell = [H.diff(var) for var in [ut, ub, ux, uy]]\n",
    "# solve for optimal actions\n",
    "sol = solve(dell, [ut, ub, ux, uy])\n",
    "actionsstar = actions.subs([(key, sol[key]) for key in sol.keys()])\n",
    "simplify(actionsstar)"
   ]
  },
  {
   "cell_type": "code",
   "execution_count": 11,
   "metadata": {},
   "outputs": [
    {
     "name": "stdout",
     "output_type": "stream",
     "text": [
      "([(x0, 1/m), (x1, A*C_D*\\rho/2), (x2, T_{max}*u_t), (x3, 2*q_r), (x4, 2*q_z), (x5, \\omega_{max}*q_y/2), (x6, \\omega_{max}*q_z/2), (x7, \\omega_{max}*q_r/2), (x8, \\omega_{max}*q_x/2), (x9, A*C_D*\\rho*x0/2), (x10, \\lambda_{q_y}*\\omega_{max}/2), (x11, \\lambda_{q_z}*\\omega_{max}/2), (x12, 2*T_{max}*\\lambda_{v_x}*u_t*x0), (x13, 2*T_{max}*\\lambda_{v_y}*u_t*x0), (x14, T_{max}*\\lambda_{v_x}*u_t*x0), (x15, T_{max}*\\lambda_{v_y}*u_t*x0), (x16, 4*T_{max}*\\lambda_{v_z}*u_t*x0), (x17, \\lambda_{q_r}*\\omega_{max}/2), (x18, \\lambda_{q_x}*\\omega_{max}/2)], [Matrix([\n",
      "[                                                                         v_x],\n",
      "[                                                                         v_y],\n",
      "[                                                                         v_z],\n",
      "[                             x0*(-x1*(v_x - v_{x_f}) + x2*(q_x*x4 - q_y*x3))],\n",
      "[                            x0*(-x1*(v_y - v_{y_f}) + x2*(-q_x*x3 + q_y*x4))],\n",
      "[x0*(V*\\rho*g*u_b - g*m - x1*(v_z - v_{z_f}) + x2*(-2*q_x**2 - 2*q_y**2 + 1))],\n",
      "[                                                             u_x*x6 - u_y*x5],\n",
      "[                                                             u_x*x5 + u_y*x6],\n",
      "[                                                            -u_x*x8 + u_y*x7],\n",
      "[                                                            -u_x*x7 - u_y*x8],\n",
      "[                                                                           0],\n",
      "[                                                                           0],\n",
      "[                                                                           0],\n",
      "[                                               -\\lambda_x + \\lambda_{v_x}*x9],\n",
      "[                                               -\\lambda_y + \\lambda_{v_y}*x9],\n",
      "[                                               -\\lambda_z + \\lambda_{v_z}*x9],\n",
      "[                                       q_x*x13 + q_y*x12 + u_x*x11 - u_y*x10],\n",
      "[                               q_x*x16 + u_x*x10 + u_y*x11 - x14*x4 + x15*x3],\n",
      "[                               q_y*x16 - u_x*x18 + u_y*x17 + x14*x3 - x15*x4],\n",
      "[                                      -q_x*x12 - q_y*x13 - u_x*x17 - u_y*x18]])])\n"
     ]
    }
   ],
   "source": [
    "# fullstate equations of motion\n",
    "dl = Matrix([-H.diff(var) for var in s])\n",
    "dfs = Matrix([ds, dl])\n",
    "print(cse(dfs))"
   ]
  },
  {
   "cell_type": "code",
   "execution_count": null,
   "metadata": {
    "scrolled": true
   },
   "outputs": [],
   "source": [
    "print(cse(H))"
   ]
  },
  {
   "cell_type": "code",
   "execution_count": null,
   "metadata": {
    "collapsed": true
   },
   "outputs": [],
   "source": []
  }
 ],
 "metadata": {
  "kernelspec": {
   "display_name": "Python 3",
   "language": "python",
   "name": "python3"
  },
  "language_info": {
   "codemirror_mode": {
    "name": "ipython",
    "version": 3
   },
   "file_extension": ".py",
   "mimetype": "text/x-python",
   "name": "python",
   "nbconvert_exporter": "python",
   "pygments_lexer": "ipython3",
   "version": "3.6.4"
  }
 },
 "nbformat": 4,
 "nbformat_minor": 2
}
