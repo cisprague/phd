{
 "cells": [
  {
   "cell_type": "code",
   "execution_count": 1,
   "metadata": {
    "collapsed": true
   },
   "outputs": [],
   "source": [
    "from numpy import *\n",
    "from sympy import *\n",
    "init_printing()"
   ]
  },
  {
   "cell_type": "code",
   "execution_count": 5,
   "metadata": {},
   "outputs": [],
   "source": [
    "# state\n",
    "x, y, vx, vy, theta, omega = symbols('x y v_x v_y theta \\\\omega')\n",
    "p                          = Matrix([x, y])\n",
    "v                          = Matrix([vx, vy])\n",
    "s                          = Matrix([p, v, [theta], [omega]])"
   ]
  },
  {
   "cell_type": "code",
   "execution_count": 6,
   "metadata": {},
   "outputs": [
    {
     "data": {
      "text/latex": [
       "$$\\left[\\begin{matrix}u_{t}\\\\u_{b}\\\\u_{w}\\end{matrix}\\right]$$"
      ],
      "text/plain": [
       "⎡uₜ ⎤\n",
       "⎢   ⎥\n",
       "⎢u_b⎥\n",
       "⎢   ⎥\n",
       "⎣u_w⎦"
      ]
     },
     "execution_count": 6,
     "metadata": {},
     "output_type": "execute_result"
    }
   ],
   "source": [
    "# control\n",
    "ut, ub, uw = symbols(\"u_t u_b u_w\")\n",
    "actions = Matrix([ut, ub, uw])"
   ]
  },
  {
   "cell_type": "code",
   "execution_count": 29,
   "metadata": {},
   "outputs": [],
   "source": [
    "# parametres\n",
    "g, rho, r, T, W, m, vf, thetaf, cd = symbols(\"g \\\\rho r T \\\\Omega m v_f \\\\theta_f C_d\")"
   ]
  },
  {
   "cell_type": "code",
   "execution_count": 28,
   "metadata": {},
   "outputs": [],
   "source": [
    "# ancillary\n",
    "vfv = vf*Matrix([cos(thetaf), sin(thetaf)])\n",
    "vrel = v - vfv\n",
    "vrelmag = sqrt(vrel[0]**2 + vrel[1]**2)\n",
    "A = pi*r**2\n",
    "V = Rational(4, 3)*pi*r**3"
   ]
  },
  {
   "cell_type": "code",
   "execution_count": 39,
   "metadata": {},
   "outputs": [
    {
     "data": {
      "text/latex": [
       "$$\\left[\\begin{matrix}- T u_{t} \\sin{\\left (\\theta \\right )}\\\\T u_{t} \\cos{\\left (\\theta \\right )}\\end{matrix}\\right]$$"
      ],
      "text/plain": [
       "⎡-T⋅uₜ⋅sin(θ)⎤\n",
       "⎢            ⎥\n",
       "⎣T⋅uₜ⋅cos(θ) ⎦"
      ]
     },
     "execution_count": 39,
     "metadata": {},
     "output_type": "execute_result"
    }
   ],
   "source": [
    "# forces\n",
    "Fg = m*Matrix([0, -g])\n",
    "Fd = -Rational(1, 2)*rho*vrelmag*vrel*cd*A\n",
    "Fb = -rho*ub*V*Matrix([0, -g])\n",
    "Ft = T*ut*Matrix([-sin(theta), cos(theta)])"
   ]
  },
  {
   "cell_type": "code",
   "execution_count": 42,
   "metadata": {},
   "outputs": [
    {
     "data": {
      "image/png": "[encoded data removed]",
      "text/latex": [
       "$$\\omega$$"
      ],
      "text/plain": [
       "\\omega"
      ]
     },
     "execution_count": 42,
     "metadata": {},
     "output_type": "execute_result"
    }
   ],
   "source": [
    "# kinematics\n",
    "dp = v\n",
    "dv = (Fg + Fd + Fb + Ft)/m\n",
    "dtheta = omega\n",
    "domega = "
   ]
  },
  {
   "cell_type": "code",
   "execution_count": null,
   "metadata": {
    "collapsed": true
   },
   "outputs": [],
   "source": []
  }
 ],
 "metadata": {
  "kernelspec": {
   "display_name": "Python 3",
   "language": "python",
   "name": "python3"
  },
  "language_info": {
   "codemirror_mode": {
    "name": "ipython",
    "version": 3
   },
   "file_extension": ".py",
   "mimetype": "text/x-python",
   "name": "python",
   "nbconvert_exporter": "python",
   "pygments_lexer": "ipython3",
   "version": "3.6.4"
  }
 },
 "nbformat": 4,
 "nbformat_minor": 2
}
