{
 "cells": [
  {
   "cell_type": "code",
   "execution_count": 1,
   "metadata": {
    "collapsed": true
   },
   "outputs": [],
   "source": [
    "import sys\n",
    "sys.path.append(\"../src\")\n",
    "from auv import AUV\n",
    "from leg import Leg\n",
    "from problem import Problem\n",
    "import numpy as np\n",
    "import matplotlib.pyplot as plt"
   ]
  },
  {
   "cell_type": "code",
   "execution_count": 2,
   "metadata": {
    "collapsed": true
   },
   "outputs": [],
   "source": [
    "# instantiate AUV\n",
    "auv = AUV(cv=2)"
   ]
  },
  {
   "cell_type": "code",
   "execution_count": 3,
   "metadata": {
    "collapsed": true
   },
   "outputs": [],
   "source": [
    "# instantiate Leg\n",
    "leg = Leg(auv, alpha=0.5)"
   ]
  },
  {
   "cell_type": "code",
   "execution_count": 4,
   "metadata": {},
   "outputs": [],
   "source": [
    "# departure and arrival states\n",
    "s0 = [100, 100, 100, 0, 0, 0, 1, 0, 0, 0]\n",
    "sf = [0, 0, 0, 0, 0, 0, 1, 0, 0, 0]\n",
    "\n",
    "# departure and arrival times\n",
    "t0 = 0\n",
    "tf = 10000\n",
    "\n",
    "# initial costates\n",
    "l0 = [0, 0, 0, 0, 0, 0, 0, 0, 0, 0]\n",
    "\n",
    "# set leg\n",
    "leg.set(t0, s0, l0, tf, sf)"
   ]
  },
  {
   "cell_type": "code",
   "execution_count": 5,
   "metadata": {},
   "outputs": [],
   "source": [
    "# trajectory optimisation problem\n",
    "prob = Problem(leg)"
   ]
  },
  {
   "cell_type": "code",
   "execution_count": 6,
   "metadata": {},
   "outputs": [
    {
     "name": "stderr",
     "output_type": "stream",
     "text": [
      "/usr/lib/python3.6/site-packages/scipy/integrate/_ode.py:1095: UserWarning: dop853: larger nmax is needed\n",
      "  self.messages.get(istate, unexpected_istate_msg)))\n"
     ]
    },
    {
     "data": {
      "text/plain": [
       "array([ 1.00000000e+00,  6.66388586e+02,  1.04660151e+03, -3.01860437e+03,\n",
       "        1.01060367e+00,  1.68901525e+00, -5.56450658e+00, -1.91521972e+00,\n",
       "        0.00000000e+00,  2.84932332e-01, -2.84932332e-01, -2.50000000e-01])"
      ]
     },
     "execution_count": 6,
     "metadata": {},
     "output_type": "execute_result"
    }
   ],
   "source": [
    "prob.fitness([1000, *l0])"
   ]
  },
  {
   "cell_type": "code",
   "execution_count": null,
   "metadata": {
    "collapsed": true
   },
   "outputs": [],
   "source": []
  }
 ],
 "metadata": {
  "kernelspec": {
   "display_name": "Python 3",
   "language": "python",
   "name": "python3"
  },
  "language_info": {
   "codemirror_mode": {
    "name": "ipython",
    "version": 3
   },
   "file_extension": ".py",
   "mimetype": "text/x-python",
   "name": "python",
   "nbconvert_exporter": "python",
   "pygments_lexer": "ipython3",
   "version": "3.6.4"
  }
 },
 "nbformat": 4,
 "nbformat_minor": 2
}
