{
 "cells": [
  {
   "cell_type": "code",
   "execution_count": 1,
   "metadata": {
    "collapsed": true
   },
   "outputs": [],
   "source": [
    "from numpy import *\n",
    "from sympy import *\n",
    "init_printing()"
   ]
  },
  {
   "cell_type": "code",
   "execution_count": 2,
   "metadata": {
    "collapsed": true
   },
   "outputs": [],
   "source": [
    "# state\n",
    "x, y, z, vx, vy, vz, m = symbols('x y z v_x v_y v_z m')\n",
    "r                      = Matrix([x, y, z])\n",
    "v                      = Matrix([vx, vy, vz])\n",
    "s                      = Matrix([r, v, [m]])"
   ]
  },
  {
   "cell_type": "code",
   "execution_count": 3,
   "metadata": {
    "collapsed": true
   },
   "outputs": [],
   "source": [
    "# costate\n",
    "lx, ly, lz, lvx, lvy, lvz, lm = symbols(\n",
    "    '\\lambda_x \\lambda_y \\lambda_z \\lambda_{v_x} \\lambda_{v_y} \\lambda_{v_z} \\lambda_m')\n",
    "lr                            = Matrix([lx, ly, lz])\n",
    "lv                            = Matrix([lvx, lvy, lvz])\n",
    "l                             = Matrix([lr, lv, [lm]])"
   ]
  },
  {
   "cell_type": "code",
   "execution_count": 4,
   "metadata": {
    "collapsed": true
   },
   "outputs": [],
   "source": [
    "# fullstate\n",
    "fs = Matrix([s, l])"
   ]
  },
  {
   "cell_type": "code",
   "execution_count": 5,
   "metadata": {
    "collapsed": true
   },
   "outputs": [],
   "source": [
    "# control: throttle and direction\n",
    "u, ux, uy, uz = symbols(\"u, u_x, u_y u_z\")\n",
    "i = Matrix([ux, uy, uz])"
   ]
  },
  {
   "cell_type": "code",
   "execution_count": 6,
   "metadata": {
    "collapsed": true
   },
   "outputs": [],
   "source": [
    "# gravitational parametre, max thrust, specific impulse, sea level gravity\n",
    "mu, T, isp, g0 = symbols(\"mu T_{max} I_{sp} g_0\")"
   ]
  },
  {
   "cell_type": "code",
   "execution_count": 7,
   "metadata": {
    "collapsed": true
   },
   "outputs": [],
   "source": [
    "# constants\n",
    "c1 = T\n",
    "c2 = c1/(isp*g0)"
   ]
  },
  {
   "cell_type": "code",
   "execution_count": 8,
   "metadata": {},
   "outputs": [
    {
     "data": {
      "text/latex": [
       "$$\\left[\\begin{matrix}v_{x}\\\\v_{y}\\\\v_{z}\\\\\\frac{T_{max} u}{m} u_{x} - \\frac{\\mu x}{\\left(x^{2} + y^{2} + z^{2}\\right)^{\\frac{3}{2}}}\\\\\\frac{T_{max} u}{m} u_{y} - \\frac{\\mu y}{\\left(x^{2} + y^{2} + z^{2}\\right)^{\\frac{3}{2}}}\\\\\\frac{T_{max} u}{m} u_{z} - \\frac{\\mu z}{\\left(x^{2} + y^{2} + z^{2}\\right)^{\\frac{3}{2}}}\\\\- \\frac{T_{max} u}{I_{sp} g_{0}}\\end{matrix}\\right]$$"
      ],
      "text/plain": [
       "⎡               vₓ                ⎤\n",
       "⎢                                 ⎥\n",
       "⎢               v_y               ⎥\n",
       "⎢                                 ⎥\n",
       "⎢               v_z               ⎥\n",
       "⎢                                 ⎥\n",
       "⎢T_{max}⋅u⋅uₓ          μ⋅x        ⎥\n",
       "⎢──────────── - ───────────────── ⎥\n",
       "⎢     m                       3/2 ⎥\n",
       "⎢               ⎛ 2    2    2⎞    ⎥\n",
       "⎢               ⎝x  + y  + z ⎠    ⎥\n",
       "⎢                                 ⎥\n",
       "⎢T_{max}⋅u⋅u_y          μ⋅y       ⎥\n",
       "⎢───────────── - ─────────────────⎥\n",
       "⎢      m                       3/2⎥\n",
       "⎢                ⎛ 2    2    2⎞   ⎥\n",
       "⎢                ⎝x  + y  + z ⎠   ⎥\n",
       "⎢                                 ⎥\n",
       "⎢T_{max}⋅u⋅u_z          μ⋅z       ⎥\n",
       "⎢───────────── - ─────────────────⎥\n",
       "⎢      m                       3/2⎥\n",
       "⎢                ⎛ 2    2    2⎞   ⎥\n",
       "⎢                ⎝x  + y  + z ⎠   ⎥\n",
       "⎢                                 ⎥\n",
       "⎢           -T_{max}⋅u            ⎥\n",
       "⎢           ───────────           ⎥\n",
       "⎣            I_{sp}⋅g₀            ⎦"
      ]
     },
     "execution_count": 8,
     "metadata": {},
     "output_type": "execute_result"
    }
   ],
   "source": [
    "# position\n",
    "dr = v\n",
    "\n",
    "# velocity\n",
    "dv = (-mu/sqrt(x**2 + y**2 + z**2)**3)*r + c1*u/m*i\n",
    "\n",
    "# mass\n",
    "dm = -c2*u\n",
    "\n",
    "# state dynamics\n",
    "ds = Matrix([dr, dv, [dm]])\n",
    "ds"
   ]
  },
  {
   "cell_type": "code",
   "execution_count": 9,
   "metadata": {
    "collapsed": true
   },
   "outputs": [],
   "source": [
    "# save\n",
    "f = open(\"spacecraft.tex\", \"w\")\n",
    "f.write(latex(ds))\n",
    "f.close()"
   ]
  },
  {
   "cell_type": "code",
   "execution_count": null,
   "metadata": {
    "collapsed": true
   },
   "outputs": [],
   "source": []
  }
 ],
 "metadata": {
  "kernelspec": {
   "display_name": "Python 3",
   "language": "python",
   "name": "python3"
  },
  "language_info": {
   "codemirror_mode": {
    "name": "ipython",
    "version": 3
   },
   "file_extension": ".py",
   "mimetype": "text/x-python",
   "name": "python",
   "nbconvert_exporter": "python",
   "pygments_lexer": "ipython3",
   "version": "3.6.4"
  }
 },
 "nbformat": 4,
 "nbformat_minor": 2
}
