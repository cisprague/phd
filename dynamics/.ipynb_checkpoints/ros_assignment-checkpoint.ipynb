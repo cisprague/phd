{
 "cells": [
  {
   "cell_type": "code",
   "execution_count": 1,
   "metadata": {},
   "outputs": [],
   "source": [
    "from sympy import *\n",
    "init_printing()"
   ]
  },
  {
   "cell_type": "code",
   "execution_count": 2,
   "metadata": {},
   "outputs": [],
   "source": [
    "# state\n",
    "x, y, theta = symbols(\"x y theta\")\n",
    "s = Matrix([x, y, theta])\n",
    "s.T\n",
    "\n",
    "# costate variables\n",
    "l = Matrix([symbols(\"lambda_\" + str(var)) for var in s])\n",
    "l.T\n",
    "\n",
    "# fullstate\n",
    "fs = Matrix([s, l])"
   ]
  },
  {
   "cell_type": "code",
   "execution_count": 3,
   "metadata": {},
   "outputs": [
    {
     "data": {
      "image/png": "[encoded data removed]",
      "text/latex": [
       "$$\\left[\\begin{matrix}v_{\\omega 1} & v_{\\omega 2}\\end{matrix}\\right]$$"
      ],
      "text/plain": [
       "[v_ω_1  v_ω_2]"
      ]
     },
     "execution_count": 3,
     "metadata": {},
     "output_type": "execute_result"
    }
   ],
   "source": [
    "# controls\n",
    "vw1, vw2 = symbols(\"v_omega_1 v_omega_2\")\n",
    "u = Matrix([vw1, vw2])\n",
    "u.T"
   ]
  },
  {
   "cell_type": "code",
   "execution_count": 4,
   "metadata": {},
   "outputs": [
    {
     "data": {
      "image/png": "[encoded data removed]",
      "text/latex": [
       "$$\\left[\\begin{matrix}tpr & b & r\\end{matrix}\\right]$$"
      ],
      "text/plain": [
       "[tpr  b  r]"
      ]
     },
     "execution_count": 4,
     "metadata": {},
     "output_type": "execute_result"
    }
   ],
   "source": [
    "# parametres\n",
    "tpr, b, r = symbols(\"tpr b r\")\n",
    "params = Matrix([tpr, b, r])\n",
    "params.T"
   ]
  },
  {
   "cell_type": "code",
   "execution_count": 5,
   "metadata": {},
   "outputs": [
    {
     "data": {
      "image/png": "[encoded data removed]",
      "text/latex": [
       "$$\\left[\\begin{matrix}\\left(\\frac{v_{\\omega 1}}{2} + \\frac{v_{\\omega 2}}{2}\\right) \\cos{\\left (\\theta \\right )}\\\\\\frac{\\sin{\\left (\\theta \\right )}}{2 b} \\left(- v_{\\omega 1} + v_{\\omega 2}\\right)\\\\\\frac{1}{2 b} \\left(- v_{\\omega 1} + v_{\\omega 2}\\right)\\end{matrix}\\right]$$"
      ],
      "text/plain": [
       "⎡⎛v_ω_1   v_ω_2⎞        ⎤\n",
       "⎢⎜───── + ─────⎟⋅cos(θ) ⎥\n",
       "⎢⎝  2       2  ⎠        ⎥\n",
       "⎢                       ⎥\n",
       "⎢(-v_ω_1 + v_ω_2)⋅sin(θ)⎥\n",
       "⎢───────────────────────⎥\n",
       "⎢          2⋅b          ⎥\n",
       "⎢                       ⎥\n",
       "⎢    -v_ω_1 + v_ω_2     ⎥\n",
       "⎢    ──────────────     ⎥\n",
       "⎣         2⋅b           ⎦"
      ]
     },
     "execution_count": 5,
     "metadata": {},
     "output_type": "execute_result"
    }
   ],
   "source": [
    "# state transition\n",
    "v = (vw1 + vw2)/2\n",
    "w = (vw2 - vw1)/(2*b)\n",
    "dx = cos(theta)*v\n",
    "dy = sin(theta)*w\n",
    "dtheta = w\n",
    "ds = Matrix([dx, dy, dtheta])\n",
    "ds"
   ]
  },
  {
   "cell_type": "code",
   "execution_count": 6,
   "metadata": {},
   "outputs": [
    {
     "data": {
      "image/png": "[encoded data removed]",
      "text/latex": [
       "$$\\alpha \\left(v_{\\omega 1} + v_{\\omega 2} + 1\\right) + \\left(- \\alpha + 1\\right) \\left(v_{\\omega 1}^{2} + v_{\\omega 2}^{2} + 1\\right)$$"
      ],
      "text/plain": [
       "                                 ⎛     2        2    ⎞\n",
       "α⋅(v_ω_1 + v_ω_2 + 1) + (-α + 1)⋅⎝v_ω_1  + v_ω_2  + 1⎠"
      ]
     },
     "execution_count": 6,
     "metadata": {},
     "output_type": "execute_result"
    }
   ],
   "source": [
    "# Lagrangian\n",
    "alpha = symbols(\"alpha\")\n",
    "L = alpha*(vw1 + vw2 + 1) + (1 - alpha)*(vw1**2 + vw2**2 + 1)\n",
    "L"
   ]
  },
  {
   "cell_type": "code",
   "execution_count": 7,
   "metadata": {},
   "outputs": [
    {
     "data": {
      "image/png": "[encoded data removed]",
      "text/latex": [
       "$$\\alpha \\left(v_{\\omega 1} + v_{\\omega 2} + 1\\right) + \\lambda_{x} \\left(\\frac{v_{\\omega 1}}{2} + \\frac{v_{\\omega 2}}{2}\\right) \\cos{\\left (\\theta \\right )} + \\left(- \\alpha + 1\\right) \\left(v_{\\omega 1}^{2} + v_{\\omega 2}^{2} + 1\\right) + \\frac{\\lambda_{\\theta}}{2 b} \\left(- v_{\\omega 1} + v_{\\omega 2}\\right) + \\frac{\\lambda_{y}}{2 b} \\left(- v_{\\omega 1} + v_{\\omega 2}\\right) \\sin{\\left (\\theta \\right )}$$"
      ],
      "text/plain": [
       "                           ⎛v_ω_1   v_ω_2⎞                   ⎛     2        2 \n",
       "α⋅(v_ω_1 + v_ω_2 + 1) + λₓ⋅⎜───── + ─────⎟⋅cos(θ) + (-α + 1)⋅⎝v_ω_1  + v_ω_2  \n",
       "                           ⎝  2       2  ⎠                                    \n",
       "\n",
       "   ⎞   λₜₕₑₜₐ⋅(-v_ω_1 + v_ω_2)   λ_y⋅(-v_ω_1 + v_ω_2)⋅sin(θ)\n",
       "+ 1⎠ + ─────────────────────── + ───────────────────────────\n",
       "                 2⋅b                         2⋅b            "
      ]
     },
     "execution_count": 7,
     "metadata": {},
     "output_type": "execute_result"
    }
   ],
   "source": [
    "# Hamiltonian\n",
    "H = l.dot(ds) + L\n",
    "H"
   ]
  },
  {
   "cell_type": "code",
   "execution_count": 8,
   "metadata": {},
   "outputs": [
    {
     "data": {
      "image/png": "[encoded data removed]",
      "text/latex": [
       "$$\\left[\\begin{matrix}\\frac{1}{4 b \\left(\\alpha - 1\\right)} \\left(2 \\alpha b + b \\lambda_{x} \\cos{\\left (\\theta \\right )} + \\lambda_{\\theta} + \\lambda_{y} \\sin{\\left (\\theta \\right )}\\right)\\\\\\frac{1}{4 b \\left(\\alpha - 1\\right)} \\left(2 \\alpha b + b \\lambda_{x} \\cos{\\left (\\theta \\right )} - \\lambda_{\\theta} - \\lambda_{y} \\sin{\\left (\\theta \\right )}\\right)\\end{matrix}\\right]$$"
      ],
      "text/plain": [
       "⎡2⋅α⋅b + b⋅λₓ⋅cos(θ) + λₜₕₑₜₐ + λ_y⋅sin(θ)⎤\n",
       "⎢─────────────────────────────────────────⎥\n",
       "⎢               4⋅b⋅(α - 1)               ⎥\n",
       "⎢                                         ⎥\n",
       "⎢2⋅α⋅b + b⋅λₓ⋅cos(θ) - λₜₕₑₜₐ - λ_y⋅sin(θ)⎥\n",
       "⎢─────────────────────────────────────────⎥\n",
       "⎣               4⋅b⋅(α - 1)               ⎦"
      ]
     },
     "execution_count": 8,
     "metadata": {},
     "output_type": "execute_result"
    }
   ],
   "source": [
    "# optimal controls\n",
    "dell = [H.diff(var) for var in u]\n",
    "ustar = solve(dell, u)\n",
    "ustar = Matrix([ustar[key] for key in ustar.keys()])\n",
    "ustar"
   ]
  },
  {
   "cell_type": "code",
   "execution_count": 9,
   "metadata": {},
   "outputs": [
    {
     "data": {
      "image/png": "[encoded data removed]",
      "text/latex": [
       "$$\\left[\\begin{matrix}\\left(\\frac{v_{\\omega 1}}{2} + \\frac{v_{\\omega 2}}{2}\\right) \\cos{\\left (\\theta \\right )}\\\\\\frac{\\sin{\\left (\\theta \\right )}}{2 b} \\left(- v_{\\omega 1} + v_{\\omega 2}\\right)\\\\\\frac{1}{2 b} \\left(- v_{\\omega 1} + v_{\\omega 2}\\right)\\\\0\\\\0\\\\\\lambda_{x} \\left(\\frac{v_{\\omega 1}}{2} + \\frac{v_{\\omega 2}}{2}\\right) \\sin{\\left (\\theta \\right )} - \\frac{\\lambda_{y}}{2 b} \\left(- v_{\\omega 1} + v_{\\omega 2}\\right) \\cos{\\left (\\theta \\right )}\\end{matrix}\\right]$$"
      ],
      "text/plain": [
       "⎡                ⎛v_ω_1   v_ω_2⎞                        ⎤\n",
       "⎢                ⎜───── + ─────⎟⋅cos(θ)                 ⎥\n",
       "⎢                ⎝  2       2  ⎠                        ⎥\n",
       "⎢                                                       ⎥\n",
       "⎢                (-v_ω_1 + v_ω_2)⋅sin(θ)                ⎥\n",
       "⎢                ───────────────────────                ⎥\n",
       "⎢                          2⋅b                          ⎥\n",
       "⎢                                                       ⎥\n",
       "⎢                    -v_ω_1 + v_ω_2                     ⎥\n",
       "⎢                    ──────────────                     ⎥\n",
       "⎢                         2⋅b                           ⎥\n",
       "⎢                                                       ⎥\n",
       "⎢                           0                           ⎥\n",
       "⎢                                                       ⎥\n",
       "⎢                           0                           ⎥\n",
       "⎢                                                       ⎥\n",
       "⎢   ⎛v_ω_1   v_ω_2⎞          λ_y⋅(-v_ω_1 + v_ω_2)⋅cos(θ)⎥\n",
       "⎢λₓ⋅⎜───── + ─────⎟⋅sin(θ) - ───────────────────────────⎥\n",
       "⎣   ⎝  2       2  ⎠                      2⋅b            ⎦"
      ]
     },
     "execution_count": 9,
     "metadata": {},
     "output_type": "execute_result"
    }
   ],
   "source": [
    "# fullstate transition\n",
    "dl = Matrix([-H.diff(var) for var in s])\n",
    "dfs = Matrix([ds, dl])\n",
    "dfs"
   ]
  },
  {
   "cell_type": "code",
   "execution_count": 10,
   "metadata": {},
   "outputs": [
    {
     "data": {
      "image/png": "[encoded data removed]",
      "text/latex": [
       "$$\\left[\\begin{matrix}0 & 0 & - \\left(\\frac{v_{\\omega 1}}{2} + \\frac{v_{\\omega 2}}{2}\\right) \\sin{\\left (\\theta \\right )} & 0 & 0 & 0\\\\0 & 0 & \\frac{\\cos{\\left (\\theta \\right )}}{2 b} \\left(- v_{\\omega 1} + v_{\\omega 2}\\right) & 0 & 0 & 0\\\\0 & 0 & 0 & 0 & 0 & 0\\\\0 & 0 & 0 & 0 & 0 & 0\\\\0 & 0 & 0 & 0 & 0 & 0\\\\0 & 0 & \\lambda_{x} \\left(\\frac{v_{\\omega 1}}{2} + \\frac{v_{\\omega 2}}{2}\\right) \\cos{\\left (\\theta \\right )} + \\frac{\\lambda_{y}}{2 b} \\left(- v_{\\omega 1} + v_{\\omega 2}\\right) \\sin{\\left (\\theta \\right )} & \\left(\\frac{v_{\\omega 1}}{2} + \\frac{v_{\\omega 2}}{2}\\right) \\sin{\\left (\\theta \\right )} & - \\frac{\\cos{\\left (\\theta \\right )}}{2 b} \\left(- v_{\\omega 1} + v_{\\omega 2}\\right) & 0\\end{matrix}\\right]$$"
      ],
      "text/plain": [
       "⎡                       ⎛v_ω_1   v_ω_2⎞                                       \n",
       "⎢0  0                  -⎜───── + ─────⎟⋅sin(θ)                            0   \n",
       "⎢                       ⎝  2       2  ⎠                                       \n",
       "⎢                                                                             \n",
       "⎢                      (-v_ω_1 + v_ω_2)⋅cos(θ)                                \n",
       "⎢0  0                  ───────────────────────                            0   \n",
       "⎢                                2⋅b                                          \n",
       "⎢                                                                             \n",
       "⎢0  0                             0                                       0   \n",
       "⎢                                                                             \n",
       "⎢0  0                             0                                       0   \n",
       "⎢                                                                             \n",
       "⎢0  0                             0                                       0   \n",
       "⎢                                                                             \n",
       "⎢         ⎛v_ω_1   v_ω_2⎞          λ_y⋅(-v_ω_1 + v_ω_2)⋅sin(θ)  ⎛v_ω_1   v_ω_2\n",
       "⎢0  0  λₓ⋅⎜───── + ─────⎟⋅cos(θ) + ───────────────────────────  ⎜───── + ─────\n",
       "⎣         ⎝  2       2  ⎠                      2⋅b              ⎝  2       2  \n",
       "\n",
       "                                      ⎤\n",
       "                      0              0⎥\n",
       "                                      ⎥\n",
       "                                      ⎥\n",
       "                                      ⎥\n",
       "                      0              0⎥\n",
       "                                      ⎥\n",
       "                                      ⎥\n",
       "                      0              0⎥\n",
       "                                      ⎥\n",
       "                      0              0⎥\n",
       "                                      ⎥\n",
       "                      0              0⎥\n",
       "                                      ⎥\n",
       "⎞         -(-v_ω_1 + v_ω_2)⋅cos(θ)    ⎥\n",
       "⎟⋅sin(θ)  ─────────────────────────  0⎥\n",
       "⎠                    2⋅b              ⎦"
      ]
     },
     "execution_count": 10,
     "metadata": {},
     "output_type": "execute_result"
    }
   ],
   "source": [
    "# fullstate jacobian\n",
    "ddfs = dfs.jacobian(fs)\n",
    "ddfs"
   ]
  },
  {
   "cell_type": "code",
   "execution_count": 11,
   "metadata": {},
   "outputs": [
    {
     "data": {
      "text/plain": [
       "[None, None, None, None, None]"
      ]
     },
     "execution_count": 11,
     "metadata": {},
     "output_type": "execute_result"
    }
   ],
   "source": [
    "# codegen\n",
    "names = [\"lagrangian\", \"hamiltonian\", \"pontryagin\", \"eom_fullstate\", \"eom_fullstate_jac\"]\n",
    "funcs = [\n",
    "    Eq(symbols(\"L\"), L),\n",
    "    Eq(symbols(\"H\"), H),\n",
    "    Eq(MatrixSymbol(\"u\", *ustar.shape), ustar),\n",
    "    Eq(MatrixSymbol(\"dfs\", *dfs.shape), dfs),\n",
    "    Eq(MatrixSymbol(\"ddfs\", *ddfs.shape), ddfs)\n",
    "]\n",
    "syms = [\n",
    "    [*u, alpha],\n",
    "    [*fs, *u, alpha, *params],\n",
    "    [*fs, alpha, *params],\n",
    "    [*fs, *u, *params],\n",
    "    [*fs, *u, *params]\n",
    "]\n",
    "[sym.append(func.lhs) for sym, func in zip(syms, funcs)]"
   ]
  },
  {
   "cell_type": "code",
   "execution_count": 12,
   "metadata": {},
   "outputs": [],
   "source": [
    "from sympy.utilities.codegen import *\n",
    "# code generator\n",
    "gen = FCodeGen()\n",
    "\n",
    "# create routines\n",
    "routines = [gen.routine(name, func, sym, None) for name, func, sym in zip(names, funcs, syms)]\n",
    "\n",
    "# write routines to file\n",
    "gen.write(routines, \"../src/rov\", to_files=True, header=False, empty=True)"
   ]
  },
  {
   "cell_type": "code",
   "execution_count": 13,
   "metadata": {},
   "outputs": [],
   "source": [
    "# compile source and create python extension\n",
    "import os, sys\n",
    "os.system(\"cd ../src && f2py -c -m rov_dynamics rov.f90 rov.h\")\n",
    "sys.path.append(\"../src\")"
   ]
  },
  {
   "cell_type": "code",
   "execution_count": 14,
   "metadata": {},
   "outputs": [],
   "source": [
    "import sys\n",
    "sys.path.append(\"../src\")\n",
    "from rov_dynamics import *"
   ]
  },
  {
   "cell_type": "code",
   "execution_count": 16,
   "metadata": {},
   "outputs": [
    {
     "ename": "TypeError",
     "evalue": "Required argument 'v_omega_2' (pos 2) not found",
     "output_type": "error",
     "traceback": [
      "\u001b[0;31m---------------------------------------------------------------------------\u001b[0m",
      "\u001b[0;31mTypeError\u001b[0m                                 Traceback (most recent call last)",
      "\u001b[0;32m<ipython-input-16-1a4f2db17d05>\u001b[0m in \u001b[0;36m<module>\u001b[0;34m()\u001b[0m\n\u001b[0;32m----> 1\u001b[0;31m \u001b[0mlagrangian\u001b[0m\u001b[0;34m(\u001b[0m\u001b[0;36m5\u001b[0m\u001b[0;34m)\u001b[0m\u001b[0;34m\u001b[0m\u001b[0m\n\u001b[0m",
      "\u001b[0;31mTypeError\u001b[0m: Required argument 'v_omega_2' (pos 2) not found"
     ]
    }
   ],
   "source": [
    "lagrangian(5)"
   ]
  },
  {
   "cell_type": "code",
   "execution_count": null,
   "metadata": {},
   "outputs": [],
   "source": []
  }
 ],
 "metadata": {
  "kernelspec": {
   "display_name": "Python 3",
   "language": "python",
   "name": "python3"
  },
  "language_info": {
   "codemirror_mode": {
    "name": "ipython",
    "version": 3
   },
   "file_extension": ".py",
   "mimetype": "text/x-python",
   "name": "python",
   "nbconvert_exporter": "python",
   "pygments_lexer": "ipython3",
   "version": "3.6.4"
  }
 },
 "nbformat": 4,
 "nbformat_minor": 2
}
